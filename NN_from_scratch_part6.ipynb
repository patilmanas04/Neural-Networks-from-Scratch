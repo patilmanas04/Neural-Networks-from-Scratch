{
 "cells": [
  {
   "cell_type": "code",
   "execution_count": 2,
   "id": "afdce8c7",
   "metadata": {},
   "outputs": [],
   "source": [
    "import numpy as np"
   ]
  },
  {
   "cell_type": "markdown",
   "id": "6210bb0d",
   "metadata": {},
   "source": [
    "# ReLU Activation Function"
   ]
  },
  {
   "cell_type": "code",
   "execution_count": 5,
   "id": "a9601fdf",
   "metadata": {},
   "outputs": [
    {
     "name": "stdout",
     "output_type": "stream",
     "text": [
      "Output of ReLU function: [0.  2.  0.  3.3 0.  1.1 2.2 0. ]\n"
     ]
    }
   ],
   "source": [
    "inputs = [0, 2, -1, 3.3, -2.7, 1.1, 2.2, -100]\n",
    "outputs = np.maximum(0, inputs)\n",
    "print(\"Output of ReLU function:\", outputs)"
   ]
  },
  {
   "cell_type": "markdown",
   "id": "f630a09c",
   "metadata": {},
   "source": [
    "# Creating class for ReLU Activation Function"
   ]
  },
  {
   "cell_type": "code",
   "execution_count": 6,
   "id": "29937631",
   "metadata": {},
   "outputs": [
    {
     "name": "stdout",
     "output_type": "stream",
     "text": [
      "[0.  2.  0.  3.3 0.  1.1 2.2 0. ]\n"
     ]
    }
   ],
   "source": [
    "class Activation_ReLU:\n",
    "  def forward(self, inputs):\n",
    "    self.output = np.maximum(0, inputs)\n",
    "\n",
    "activation_relu = Activation_ReLU()\n",
    "activation_relu.forward(inputs)\n",
    "print(activation_relu.output)"
   ]
  },
  {
   "cell_type": "markdown",
   "id": "9f06ccc7",
   "metadata": {},
   "source": [
    "# Softmax Activation Function"
   ]
  },
  {
   "cell_type": "code",
   "execution_count": 8,
   "id": "9c505d7a",
   "metadata": {},
   "outputs": [
    {
     "name": "stdout",
     "output_type": "stream",
     "text": [
      "[[0.06414769 0.17437149 0.47399085 0.28748998]\n",
      " [0.04517666 0.90739747 0.00224921 0.04517666]\n",
      " [0.00522984 0.34875873 0.63547983 0.0105316 ]]\n",
      "[1. 1. 1.]\n"
     ]
    }
   ],
   "source": [
    "inputs = [[1, 2, 3, 2.5],\n",
    "          [2., 5., -1., 2],\n",
    "          [-1.5, 2.7, 3.3, -0.8]]\n",
    "\n",
    "exp_values = np.exp(inputs - np.max(inputs, axis=1, keepdims=True))\n",
    "probabilities = exp_values / np.sum(exp_values, axis=1, keepdims=1)\n",
    "\n",
    "print(probabilities)\n",
    "print(np.sum(probabilities, axis=1))"
   ]
  },
  {
   "cell_type": "markdown",
   "id": "9607bbb4",
   "metadata": {},
   "source": [
    "# Creating class for Softmax Activation Function"
   ]
  },
  {
   "cell_type": "code",
   "execution_count": 10,
   "id": "d27e86d4",
   "metadata": {},
   "outputs": [
    {
     "name": "stdout",
     "output_type": "stream",
     "text": [
      "[[0.06414769 0.17437149 0.47399085 0.28748998]\n",
      " [0.04517666 0.90739747 0.00224921 0.04517666]\n",
      " [0.00522984 0.34875873 0.63547983 0.0105316 ]]\n"
     ]
    }
   ],
   "source": [
    "class Activation_Softmax:\n",
    "  def forward(self, inputs):\n",
    "    exp_values = np.exp(inputs - np.max(inputs, axis=1, keepdims=True))\n",
    "    probabilities = exp_values / np.sum(exp_values, axis=1, keepdims=True)\n",
    "    self.output = probabilities\n",
    "\n",
    "activation_softmax = Activation_Softmax()\n",
    "activation_softmax.forward(inputs)\n",
    "print(activation_softmax.output)"
   ]
  }
 ],
 "metadata": {
  "kernelspec": {
   "display_name": "nn_from_scratch_learning",
   "language": "python",
   "name": "python3"
  },
  "language_info": {
   "codemirror_mode": {
    "name": "ipython",
    "version": 3
   },
   "file_extension": ".py",
   "mimetype": "text/x-python",
   "name": "python",
   "nbconvert_exporter": "python",
   "pygments_lexer": "ipython3",
   "version": "3.13.2"
  }
 },
 "nbformat": 4,
 "nbformat_minor": 5
}
