{
 "cells": [
  {
   "cell_type": "code",
   "execution_count": 7,
   "id": "24c6ba10-ea44-4c88-b8fd-9b07bf9d12d9",
   "metadata": {},
   "outputs": [],
   "source": [
    "import numpy as np\n",
    "from nnfs.datasets import spiral_data\n",
    "import matplotlib.pyplot as plt"
   ]
  },
  {
   "cell_type": "markdown",
   "id": "c3ebcabe-f3f7-4601-8ecf-360b6081cb7c",
   "metadata": {},
   "source": [
    "# CASE 1: If the class targets are just returned as numbers then we use python advanced indexing"
   ]
  },
  {
   "cell_type": "code",
   "execution_count": 8,
   "id": "6075e651-a391-42f7-9d85-df998215c54c",
   "metadata": {},
   "outputs": [
    {
     "name": "stdout",
     "output_type": "stream",
     "text": [
      "[0.7 0.5 0.9]\n"
     ]
    }
   ],
   "source": [
    "softmax_outputs = np.array([[0.7, 0.1, 0.2],\n",
    "                            [0.1, 0.5, 0.4],\n",
    "                            [0.02, 0.9, 0.08]])\n",
    "\n",
    "# Here the lables are represented by just numbers where:\n",
    "# 0 -> Red\n",
    "# 1 -> Green\n",
    "# 2 -> Blue\n",
    "class_targets = [0, 1, 1] # This means the class targets are [Red, Green, Green] which are the actual outputs\n",
    "print(softmax_outputs[[0, 1, 2], class_targets])"
   ]
  },
  {
   "cell_type": "markdown",
   "id": "ac865f03-8b16-46df-b1c9-7ac643c6167d",
   "metadata": {},
   "source": [
    "# Printing the cross entropy loss value for each taget prediction"
   ]
  },
  {
   "cell_type": "code",
   "execution_count": 9,
   "id": "b9654d5d-e299-4dc3-8fd4-bdc6d63ec774",
   "metadata": {},
   "outputs": [
    {
     "name": "stdout",
     "output_type": "stream",
     "text": [
      "[0.35667494 0.69314718 0.10536052]\n"
     ]
    }
   ],
   "source": [
    "print(-np.log(softmax_outputs[range(len(softmax_outputs)), class_targets]))"
   ]
  },
  {
   "cell_type": "markdown",
   "id": "91c0c2dd-294f-4d52-bee2-de2328a2c286",
   "metadata": {},
   "source": [
    "# Finding the mean cross entropy loss value"
   ]
  },
  {
   "cell_type": "code",
   "execution_count": 10,
   "id": "90726240-acb8-4bb6-b7b5-3f4aa46fe840",
   "metadata": {},
   "outputs": [
    {
     "name": "stdout",
     "output_type": "stream",
     "text": [
      "0.38506088005216804\n"
     ]
    }
   ],
   "source": [
    "neg_log = -np.log(softmax_outputs[range(len(softmax_outputs)), class_targets])\n",
    "average_loss = np.mean(neg_log)\n",
    "print(average_loss)"
   ]
  },
  {
   "cell_type": "markdown",
   "id": "98550ba3-868e-49e0-8533-de6d08f625a3",
   "metadata": {},
   "source": [
    "# CASE 2: If the data is ONE HOT ENCODED then this is how we will extract the relevant predictions"
   ]
  },
  {
   "cell_type": "code",
   "execution_count": 11,
   "id": "82a27460-6687-4e45-9d98-d3cf3e1d71bd",
   "metadata": {},
   "outputs": [
    {
     "name": "stdout",
     "output_type": "stream",
     "text": [
      "After element wise multiplication: \n",
      "[[0.7 0.  0. ]\n",
      " [0.  0.5 0. ]\n",
      " [0.  0.9 0. ]]\n",
      "Class targets after array sumission column wise: \n",
      "[0.7 0.5 0.9]\n",
      "Negative loss values for each output:  [0.35667494 0.69314718 0.10536052]\n",
      "Mean loss:  0.38506088005216804\n"
     ]
    }
   ],
   "source": [
    "y_true_check = np.array([[1, 0, 0],\n",
    "                         [0, 1, 0],\n",
    "                         [0, 1, 0]])\n",
    "\n",
    "y_pred_clipped_check = np.array([[0.7, 0.1, 0.2],\n",
    "                                 [0.1, 0.5, 0.4],\n",
    "                                 [0.02, 0.9, 0.08]])\n",
    "\n",
    "element_wise_multiplication = y_true_check*y_pred_clipped_check\n",
    "print(\"After element wise multiplication: \")\n",
    "print(element_wise_multiplication)\n",
    "\n",
    "class_targets = np.sum(element_wise_multiplication, axis=1)\n",
    "print(\"Class targets after array sumission column wise: \")\n",
    "print(class_targets)\n",
    "\n",
    "neg_loss = -np.log(class_targets)\n",
    "print(\"Negative loss values for each output: \", neg_loss)\n",
    "\n",
    "avg_loss = np.mean(neg_loss)\n",
    "print(\"Mean loss: \", avg_loss)"
   ]
  },
  {
   "cell_type": "markdown",
   "id": "4ce3d671-b9ed-4152-bcc6-72b1bc1ea969",
   "metadata": {},
   "source": [
    "# Clipping values"
   ]
  },
  {
   "cell_type": "code",
   "execution_count": 12,
   "id": "519dd3cd-b4d6-4e90-b32e-356f4677e403",
   "metadata": {},
   "outputs": [
    {
     "name": "stdout",
     "output_type": "stream",
     "text": [
      "[[0.7       0.1       0.2      ]\n",
      " [0.9999999 0.5       0.4      ]\n",
      " [0.02      0.9       0.08     ]]\n"
     ]
    }
   ],
   "source": [
    "# Clipping doesn't let the value to be completely 1 and not completely 0, it keeps the values between 0 and 1\n",
    "y_pred_clip = np.clip([[0.7, 0.1, 0.2],\n",
    "                       [1, 0.5, 0.4],\n",
    "                       [0.02, 0.9, 0.08]], 1e-7, 1 - 1e-7)\n",
    "print(y_pred_clip)"
   ]
  },
  {
   "cell_type": "markdown",
   "id": "6a1c7deb-5b09-4b79-8616-1193226c1593",
   "metadata": {},
   "source": [
    "# Implementign the Loss Class"
   ]
  },
  {
   "cell_type": "code",
   "execution_count": 13,
   "id": "2a1f21e3-1cf3-43ee-854e-34015a97d7fa",
   "metadata": {},
   "outputs": [],
   "source": [
    "class Loss:\n",
    "    def calculate(self, y_pred, y_true):\n",
    "        neg_loss_liklihoods = self.forward(y_pred, y_true)\n",
    "        avg_loss = np.mean(neg_loss_liklihoods)\n",
    "        return avg_loss"
   ]
  },
  {
   "cell_type": "markdown",
   "id": "957cfd85-8dbb-49f5-9ee8-ff985aecbc22",
   "metadata": {},
   "source": [
    "# Implementing the Categorical Cross Entropy Class"
   ]
  },
  {
   "cell_type": "code",
   "execution_count": 14,
   "id": "9f920dd8-dd9e-4baf-b7da-0a01daa57f17",
   "metadata": {
    "editable": true,
    "slideshow": {
     "slide_type": ""
    },
    "tags": []
   },
   "outputs": [],
   "source": [
    "class Loss_CategoricalCrossEntropy(Loss):\n",
    "    def forward(self, y_pred, y_true):\n",
    "        y_pred_clipped = np.clip(y_pred, 1e-7, 1 - 1e-7)\n",
    "\n",
    "        if len(y_true.shape) == 1:\n",
    "            correct_confidences = y_pred_clipped[range(len(y_pred_clipped)), y_true]\n",
    "        elif len(y_true.shape) == 2:\n",
    "            correct_confidences = np.sum(y_pred_clipped*y_true, axis=1)\n",
    "\n",
    "        neg_loss_liklihoods = -np.log(correct_confidences)\n",
    "\n",
    "        return neg_loss_liklihoods"
   ]
  },
  {
   "cell_type": "code",
   "execution_count": 15,
   "id": "d19f41ee-c4c3-4755-bc6b-c61eb7bd554c",
   "metadata": {},
   "outputs": [
    {
     "name": "stdout",
     "output_type": "stream",
     "text": [
      "Loss:  0.38506088005216804\n"
     ]
    }
   ],
   "source": [
    "softmax_outputs = np.array([[0.7, 0.1, 0.2],\n",
    "                            [1, 0.5, 0.4],\n",
    "                            [0.02, 0.9, 0.08]])\n",
    "\n",
    "class_targets = np.array([[1, 0, 0],\n",
    "                          [0, 1, 0],\n",
    "                          [0, 1, 0]])\n",
    "\n",
    "loss_function = Loss_CategoricalCrossEntropy()\n",
    "loss = loss_function.calculate(softmax_outputs, class_targets)\n",
    "print(\"Loss: \", loss)"
   ]
  },
  {
   "cell_type": "markdown",
   "id": "196fa30b-e078-421c-b147-da53a1d4ec4a",
   "metadata": {},
   "source": [
    "# Coding a whole forwards pass with loss function"
   ]
  },
  {
   "cell_type": "code",
   "execution_count": 16,
   "id": "1353d826-4daf-498a-b378-1b92d7290cf3",
   "metadata": {},
   "outputs": [],
   "source": [
    "# RELU Activation Function\n",
    "class Activation_ReLU:\n",
    "  def forward(self, inputs):\n",
    "    self.output = np.maximum(0, inputs)"
   ]
  },
  {
   "cell_type": "code",
   "execution_count": 17,
   "id": "2b00bcd9-3d80-4b46-8bb2-ba35c482ec23",
   "metadata": {},
   "outputs": [],
   "source": [
    "# Softmax Activation Function\n",
    "class Activation_Softmax:\n",
    "  def forward(self, inputs):\n",
    "    exp_values = np.exp(inputs - np.max(inputs, axis=1, keepdims=True))\n",
    "    probabilities = exp_values / np.sum(exp_values, axis=1, keepdims=True)\n",
    "    self.output = probabilities"
   ]
  },
  {
   "cell_type": "code",
   "execution_count": 18,
   "id": "86d18055-a0ac-405b-8153-f89fcfacee4a",
   "metadata": {},
   "outputs": [],
   "source": [
    "# Dense Layer Class\n",
    "class Layer_Dense:\n",
    "  def __init__(self, n_inputs, n_neurons):\n",
    "    self.n_inputs = n_inputs\n",
    "    self.n_neurons = n_neurons\n",
    "    self.weights = 0.01 * np.random.randn(n_inputs, n_neurons)\n",
    "    self.biases = np.zeros((1, n_neurons))\n",
    "\n",
    "  def forward(self, inputs):\n",
    "    self.output = np.dot(inputs, self.weights) + self.biases"
   ]
  },
  {
   "cell_type": "code",
   "execution_count": 20,
   "id": "34ab61b9-b75a-4ad7-9630-04af7db7df32",
   "metadata": {},
   "outputs": [
    {
     "data": {
      "image/png": "[encoded data removed]",
      "text/plain": [
       "<Figure size 640x480 with 1 Axes>"
      ]
     },
     "metadata": {},
     "output_type": "display_data"
    }
   ],
   "source": [
    "# Importing the spiral dataset\n",
    "X, y = spiral_data(samples=100, classes=3)\n",
    "plt.scatter(X[:, 0], X[:, 1], c=y, cmap=\"brg\")\n",
    "plt.show()"
   ]
  },
  {
   "cell_type": "code",
   "execution_count": 26,
   "id": "4aa07f0d-40d3-4aae-915a-45c4221d1b70",
   "metadata": {},
   "outputs": [
    {
     "name": "stdout",
     "output_type": "stream",
     "text": [
      "[[0.33333333 0.33333333 0.33333333]\n",
      " [0.33333328 0.33333362 0.3333331 ]\n",
      " [0.3333332  0.33333399 0.33333281]\n",
      " [0.33333312 0.33333444 0.33333244]\n",
      " [0.33333304 0.33333484 0.33333212]]\n",
      "Loss:  1.0986077619254786\n"
     ]
    }
   ],
   "source": [
    "# Coding the whole neural network pass using the loss function\n",
    "layer_dense1 = Layer_Dense(2, 3)\n",
    "relu_activation = Activation_ReLU()\n",
    "\n",
    "layer_dense2 = Layer_Dense(3, 3)\n",
    "softmax_activation = Activation_Softmax()\n",
    "\n",
    "layer_dense1.forward(X)\n",
    "relu_activation.forward(layer_dense1.output)\n",
    "layer_dense2.forward(relu_activation.output)\n",
    "softmax_activation.forward(layer_dense2.output)\n",
    "\n",
    "print(softmax_activation.output[:5])\n",
    "print(\"Loss: \", loss_function.calculate(softmax_activation.output, y))"
   ]
  },
  {
   "cell_type": "code",
   "execution_count": 32,
   "id": "4050fafb-72c5-4e90-b6f5-fa0649186591",
   "metadata": {},
   "outputs": [
    {
     "name": "stdout",
     "output_type": "stream",
     "text": [
      "[1 1 1]\n",
      "[False  True  True]\n",
      "0.6666666666666666\n"
     ]
    }
   ],
   "source": [
    "class_targets = np.array([0, 1, 1])\n",
    "softmax_outputs = np.array([[0.1, 0.7, 0.2],\n",
    "                            [0.02, 0.9, 0.08]])\n",
    "correct_predictions = np.argmax(softmax_outputs, axis=1)\n",
    "print(correct_predictions)\n",
    "\n",
    "if len(class_targets.shape) == 2:\n",
    "    class_targets = np.argmax(class_targets, axis=1)\n",
    "\n",
    "accuracy = np.mean(correct_predictions == class_targets)\n",
    "print(correct_predictions == class_targets)\n",
    "print(accuracy)"
   ]
  }
 ],
 "metadata": {
  "kernelspec": {
   "display_name": "nn_from_scratch",
   "language": "python",
   "name": "nn_from_scratch"
  },
  "language_info": {
   "codemirror_mode": {
    "name": "ipython",
    "version": 3
   },
   "file_extension": ".py",
   "mimetype": "text/x-python",
   "name": "python",
   "nbconvert_exporter": "python",
   "pygments_lexer": "ipython3",
   "version": "3.13.2"
  }
 },
 "nbformat": 4,
 "nbformat_minor": 5
}
