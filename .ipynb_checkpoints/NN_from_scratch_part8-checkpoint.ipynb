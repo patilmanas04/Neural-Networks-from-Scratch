{
 "cells": [
  {
   "cell_type": "code",
   "execution_count": 2,
   "id": "24c6ba10-ea44-4c88-b8fd-9b07bf9d12d9",
   "metadata": {},
   "outputs": [],
   "source": [
    "import numpy as np"
   ]
  },
  {
   "cell_type": "markdown",
   "id": "c3ebcabe-f3f7-4601-8ecf-360b6081cb7c",
   "metadata": {},
   "source": [
    "# CASE 1: If the class targets are just returned as numbers then we use python advanced indexing"
   ]
  },
  {
   "cell_type": "code",
   "execution_count": 3,
   "id": "6075e651-a391-42f7-9d85-df998215c54c",
   "metadata": {},
   "outputs": [
    {
     "name": "stdout",
     "output_type": "stream",
     "text": [
      "[0.7 0.5 0.9]\n"
     ]
    }
   ],
   "source": [
    "softmax_outputs = np.array([[0.7, 0.1, 0.2],\n",
    "                            [0.1, 0.5, 0.4],\n",
    "                            [0.02, 0.9, 0.08]])\n",
    "\n",
    "# Here the lables are represented by just numbers where:\n",
    "# 0 -> Red\n",
    "# 1 -> Green\n",
    "# 2 -> Blue\n",
    "class_targets = [0, 1, 1] # This means the class targets are [Red, Green, Green] which are the actual outputs\n",
    "print(softmax_outputs[[0, 1, 2], class_targets])"
   ]
  },
  {
   "cell_type": "markdown",
   "id": "ac865f03-8b16-46df-b1c9-7ac643c6167d",
   "metadata": {},
   "source": [
    "# Printing the cross entropy loss value for each taget prediction"
   ]
  },
  {
   "cell_type": "code",
   "execution_count": 4,
   "id": "b9654d5d-e299-4dc3-8fd4-bdc6d63ec774",
   "metadata": {},
   "outputs": [
    {
     "name": "stdout",
     "output_type": "stream",
     "text": [
      "[0.35667494 0.69314718 0.10536052]\n"
     ]
    }
   ],
   "source": [
    "print(-np.log(softmax_outputs[range(len(softmax_outputs)), class_targets]))"
   ]
  },
  {
   "cell_type": "markdown",
   "id": "91c0c2dd-294f-4d52-bee2-de2328a2c286",
   "metadata": {},
   "source": [
    "# Finding the mean cross entropy loss value"
   ]
  },
  {
   "cell_type": "code",
   "execution_count": 5,
   "id": "90726240-acb8-4bb6-b7b5-3f4aa46fe840",
   "metadata": {},
   "outputs": [
    {
     "name": "stdout",
     "output_type": "stream",
     "text": [
      "0.38506088005216804\n"
     ]
    }
   ],
   "source": [
    "neg_log = -np.log(softmax_outputs[range(len(softmax_outputs)), class_targets])\n",
    "average_loss = np.mean(neg_log)\n",
    "print(average_loss)"
   ]
  },
  {
   "cell_type": "markdown",
   "id": "98550ba3-868e-49e0-8533-de6d08f625a3",
   "metadata": {},
   "source": [
    "# CASE 2: If the data is ONE HOT ENCODED then this is how we will extract the relevant predictions"
   ]
  },
  {
   "cell_type": "code",
   "execution_count": 15,
   "id": "82a27460-6687-4e45-9d98-d3cf3e1d71bd",
   "metadata": {},
   "outputs": [
    {
     "name": "stdout",
     "output_type": "stream",
     "text": [
      "After element wise multiplication: \n",
      "[[0.7 0.  0. ]\n",
      " [0.  0.5 0. ]\n",
      " [0.  0.9 0. ]]\n",
      "Class targets after array sumission column wise: \n",
      "[0.7 0.5 0.9]\n",
      "Negative loss values for each output:  [0.35667494 0.69314718 0.10536052]\n",
      "Mean loss:  0.38506088005216804\n"
     ]
    }
   ],
   "source": [
    "y_true_check = np.array([[1, 0, 0],\n",
    "                         [0, 1, 0],\n",
    "                         [0, 1, 0]])\n",
    "\n",
    "y_pred_clipped_check = np.array([[0.7, 0.1, 0.2],\n",
    "                                 [0.1, 0.5, 0.4],\n",
    "                                 [0.02, 0.9, 0.08]])\n",
    "\n",
    "element_wise_multiplication = y_true_check*y_pred_clipped_check\n",
    "print(\"After element wise multiplication: \")\n",
    "print(element_wise_multiplication)\n",
    "\n",
    "class_targets = np.sum(element_wise_multiplication, axis=1)\n",
    "print(\"Class targets after array sumission column wise: \")\n",
    "print(class_targets)\n",
    "\n",
    "neg_loss = -np.log(class_targets)\n",
    "print(\"Negative loss values for each output: \", neg_loss)\n",
    "\n",
    "avg_loss = np.mean(neg_loss)\n",
    "print(\"Mean loss: \", avg_loss)"
   ]
  },
  {
   "cell_type": "markdown",
   "id": "4ce3d671-b9ed-4152-bcc6-72b1bc1ea969",
   "metadata": {},
   "source": [
    "# Clipping values"
   ]
  },
  {
   "cell_type": "code",
   "execution_count": 30,
   "id": "519dd3cd-b4d6-4e90-b32e-356f4677e403",
   "metadata": {},
   "outputs": [
    {
     "name": "stdout",
     "output_type": "stream",
     "text": [
      "[[7.000000e-01 1.000000e-01 2.000000e-01]\n",
      " [9.999999e-01 1.000000e-07 4.000000e-01]\n",
      " [2.000000e-02 9.000000e-01 8.000000e-02]]\n"
     ]
    }
   ],
   "source": [
    "y_pred_clip = np.clip([[0.7, 0.1, 0.2],\n",
    "                                 [1, 0.5, 0.4],\n",
    "                                 [0.02, 0.9, 0.08]], 1e-7, 1 - 1e-7)\n",
    "print(y_pred_clip)"
   ]
  },
  {
   "cell_type": "markdown",
   "id": "6a1c7deb-5b09-4b79-8616-1193226c1593",
   "metadata": {},
   "source": [
    "# Implementign the "
   ]
  },
  {
   "cell_type": "code",
   "execution_count": 17,
   "id": "2a1f21e3-1cf3-43ee-854e-34015a97d7fa",
   "metadata": {},
   "outputs": [],
   "source": [
    "class Loss:\n",
    "    def calculate(self, output_val, true_val):\n",
    "        pass"
   ]
  },
  {
   "cell_type": "markdown",
   "id": "957cfd85-8dbb-49f5-9ee8-ff985aecbc22",
   "metadata": {},
   "source": [
    "# Implementing the Categorical Cross Entropy Class"
   ]
  },
  {
   "cell_type": "code",
   "execution_count": null,
   "id": "9f920dd8-dd9e-4baf-b7da-0a01daa57f17",
   "metadata": {
    "editable": true,
    "slideshow": {
     "slide_type": ""
    },
    "tags": []
   },
   "outputs": [],
   "source": [
    "class Loss_CategoricalCrossEntropyClass(Loss):\n",
    "    def forward(self, output_val, true_val):\n",
    "        "
   ]
  }
 ],
 "metadata": {
  "kernelspec": {
   "display_name": "nn_from_scratch",
   "language": "python",
   "name": "nn_from_scratch"
  },
  "language_info": {
   "codemirror_mode": {
    "name": "ipython",
    "version": 3
   },
   "file_extension": ".py",
   "mimetype": "text/x-python",
   "name": "python",
   "nbconvert_exporter": "python",
   "pygments_lexer": "ipython3",
   "version": "3.13.2"
  }
 },
 "nbformat": 4,
 "nbformat_minor": 5
}
