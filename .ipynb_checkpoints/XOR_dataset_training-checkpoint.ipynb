{
 "cells": [
  {
   "cell_type": "code",
   "execution_count": 60,
   "id": "b866ff0f-dec1-4182-bdcf-3ec571093a5a",
   "metadata": {},
   "outputs": [],
   "source": [
    "import numpy as np"
   ]
  },
  {
   "cell_type": "markdown",
   "id": "dd757b54-b60f-4692-9432-98aaad236025",
   "metadata": {},
   "source": [
    "# Dataset preparation"
   ]
  },
  {
   "cell_type": "code",
   "execution_count": 61,
   "id": "067ef1ee-651b-429e-827a-fb7576be96f1",
   "metadata": {},
   "outputs": [],
   "source": [
    "X = np.array([[0, 0],\n",
    "              [0, 1],\n",
    "              [1, 0],\n",
    "              [1, 1]])\n",
    "\n",
    "# Here class 0 is denoted by [1, 0] and class 1 is denoted by [0, 1]\n",
    "y = np.array([[1, 0],\n",
    "              [0, 1],\n",
    "              [0, 1],\n",
    "              [1, 0]])"
   ]
  },
  {
   "cell_type": "markdown",
   "id": "90eb46ea-fe3b-409d-87ee-bf4e6fb50dc9",
   "metadata": {},
   "source": [
    "# Layer dense"
   ]
  },
  {
   "cell_type": "code",
   "execution_count": 62,
   "id": "b73012a4-d419-4c2c-b9d7-20093f988906",
   "metadata": {},
   "outputs": [],
   "source": [
    "class Layer_Dense:\n",
    "    def __init__(self, n_inputs, n_neurons):\n",
    "        self.weights = 0.05 * np.random.randn(n_inputs, n_neurons)\n",
    "        self.biases = 0.05 * np.random.randn(1, n_neurons)\n",
    "\n",
    "    def forward(self, inputs):\n",
    "        self.output = np.dot(inputs, self.weights) + self.biases"
   ]
  },
  {
   "cell_type": "markdown",
   "id": "cd8ff1ba-0a04-4422-b2ee-8fa93e91be14",
   "metadata": {},
   "source": [
    "# ReLU Activation Function"
   ]
  },
  {
   "cell_type": "code",
   "execution_count": 63,
   "id": "080be16d-708e-4a39-a14e-0a369e96d658",
   "metadata": {},
   "outputs": [],
   "source": [
    "class Activation_ReLU:\n",
    "    def forward(self, inputs):\n",
    "        self.output = np.maximum(0, inputs)"
   ]
  },
  {
   "cell_type": "markdown",
   "id": "c9f0876e-39e3-43ff-adf8-0616c2e416fb",
   "metadata": {},
   "source": [
    "# Softmax Activation Function"
   ]
  },
  {
   "cell_type": "code",
   "execution_count": 64,
   "id": "96d38c54-a747-41c6-877e-fc1059149185",
   "metadata": {},
   "outputs": [],
   "source": [
    "class Activation_Softmax:\n",
    "    def forward(self, inputs):\n",
    "        exp_values = np.exp(inputs - np.max(inputs, axis=1, keepdims=True))\n",
    "        probabilities = exp_values / np.sum(exp_values, axis=1, keepdims=True)\n",
    "        self.output = probabilities"
   ]
  },
  {
   "cell_type": "markdown",
   "id": "cceb6a25-f889-48ea-83d3-1958085485dd",
   "metadata": {},
   "source": [
    "# Categorical Corss Entropy Loss Function"
   ]
  },
  {
   "cell_type": "code",
   "execution_count": 65,
   "id": "08722e73-52fc-4317-9e6e-b45a5cbc1ce6",
   "metadata": {},
   "outputs": [],
   "source": [
    "class Loss_CategoricalCrossEntropy:\n",
    "    def calculate(self, y_pred, y_true):\n",
    "        avg_loss = self.forward(y_pred, y_true)\n",
    "        return avg_loss\n",
    "        \n",
    "    def forward(self, y_pred, y_true):\n",
    "        y_pred_clipped = np.clip(y_pred, 1e-7, 1 - 1e-7)\n",
    "\n",
    "        if len(y_true.shape) == 1:\n",
    "            correct_predictions = y_pred_clipped[range(len(y_true)), y_true]\n",
    "\n",
    "        if len(y_true.shape) == 2:\n",
    "            correct_predictions = np.sum(y_pred*y_true, axis=1)\n",
    "\n",
    "        neg_log = -np.log(correct_predictions)\n",
    "        avg_loss = np.mean(neg_log)\n",
    "\n",
    "        return avg_loss"
   ]
  },
  {
   "cell_type": "code",
   "execution_count": 66,
   "id": "3c13ecc8-be47-4e77-82c6-25079cc8a5ef",
   "metadata": {},
   "outputs": [],
   "source": [
    "class Accuracy:\n",
    "    def calculate(self, outputs, y_true):\n",
    "        correct_predictions = np.argmax(outputs, axis=1)\n",
    "        \n",
    "        if len(y_true.shape) == 2:\n",
    "            y_true = np.argmax(y_true, axis=1)\n",
    "            \n",
    "        accuracy = np.mean(correct_predictions == y_true)\n",
    "\n",
    "        return accuracy"
   ]
  },
  {
   "cell_type": "markdown",
   "id": "10b5fc33-c084-420a-946a-9a5c2db3b446",
   "metadata": {},
   "source": [
    "# Architecture and Training"
   ]
  },
  {
   "cell_type": "code",
   "execution_count": 78,
   "id": "827b65de-45a4-48bc-a3e1-b738525943dd",
   "metadata": {},
   "outputs": [
    {
     "name": "stdout",
     "output_type": "stream",
     "text": [
      "New set of weights and biases found at epoch:  0 Loss:  0.6951105280872567 Accuracy:  0.5\n",
      "New set of weights and biases found at epoch:  1 Loss:  0.6942929634562324 Accuracy:  0.5\n",
      "New set of weights and biases found at epoch:  27 Loss:  0.6940261056407308 Accuracy:  0.5\n",
      "New set of weights and biases found at epoch:  28 Loss:  0.6935162335490213 Accuracy:  0.5\n",
      "New set of weights and biases found at epoch:  30 Loss:  0.6931895138683664 Accuracy:  0.5\n",
      "New set of weights and biases found at epoch:  38 Loss:  0.693182042516511 Accuracy:  0.5\n",
      "New set of weights and biases found at epoch:  55 Loss:  0.6931598487101285 Accuracy:  0.5\n",
      "New set of weights and biases found at epoch:  58 Loss:  0.6928773083241477 Accuracy:  0.5\n",
      "New set of weights and biases found at epoch:  66 Loss:  0.692658553825914 Accuracy:  0.5\n",
      "New set of weights and biases found at epoch:  71 Loss:  0.6920589192766665 Accuracy:  0.5\n",
      "New set of weights and biases found at epoch:  72 Loss:  0.6915073712527376 Accuracy:  0.5\n",
      "New set of weights and biases found at epoch:  114 Loss:  0.6910471719717539 Accuracy:  0.5\n",
      "New set of weights and biases found at epoch:  127 Loss:  0.6907982688530689 Accuracy:  0.5\n",
      "New set of weights and biases found at epoch:  135 Loss:  0.6874468529751729 Accuracy:  0.5\n",
      "New set of weights and biases found at epoch:  136 Loss:  0.6867271374337124 Accuracy:  0.5\n",
      "New set of weights and biases found at epoch:  137 Loss:  0.6859481127328186 Accuracy:  0.5\n",
      "New set of weights and biases found at epoch:  138 Loss:  0.6807612584736358 Accuracy:  0.75\n",
      "New set of weights and biases found at epoch:  142 Loss:  0.6783322265442041 Accuracy:  0.75\n",
      "New set of weights and biases found at epoch:  143 Loss:  0.6708253552577962 Accuracy:  0.5\n",
      "New set of weights and biases found at epoch:  168 Loss:  0.6687742937344379 Accuracy:  0.75\n",
      "New set of weights and biases found at epoch:  173 Loss:  0.6600336819324051 Accuracy:  1.0\n",
      "New set of weights and biases found at epoch:  177 Loss:  0.6564455022894048 Accuracy:  0.75\n",
      "New set of weights and biases found at epoch:  179 Loss:  0.6536642611200811 Accuracy:  0.75\n",
      "New set of weights and biases found at epoch:  342 Loss:  0.6508090467630376 Accuracy:  1.0\n",
      "New set of weights and biases found at epoch:  385 Loss:  0.6443962695962003 Accuracy:  1.0\n",
      "New set of weights and biases found at epoch:  387 Loss:  0.6387262366287317 Accuracy:  0.75\n",
      "New set of weights and biases found at epoch:  389 Loss:  0.6376062610718847 Accuracy:  0.5\n",
      "New set of weights and biases found at epoch:  390 Loss:  0.6278686148282924 Accuracy:  1.0\n",
      "New set of weights and biases found at epoch:  393 Loss:  0.6234171181639441 Accuracy:  0.75\n",
      "New set of weights and biases found at epoch:  429 Loss:  0.6201551818901216 Accuracy:  0.75\n",
      "New set of weights and biases found at epoch:  438 Loss:  0.6161522014518095 Accuracy:  0.75\n",
      "New set of weights and biases found at epoch:  439 Loss:  0.609822541207683 Accuracy:  0.75\n",
      "New set of weights and biases found at epoch:  443 Loss:  0.6089064934464705 Accuracy:  0.75\n",
      "New set of weights and biases found at epoch:  448 Loss:  0.6076984701517878 Accuracy:  0.75\n",
      "New set of weights and biases found at epoch:  450 Loss:  0.6074603038903408 Accuracy:  0.75\n",
      "New set of weights and biases found at epoch:  452 Loss:  0.6006679355756154 Accuracy:  0.75\n",
      "New set of weights and biases found at epoch:  461 Loss:  0.598045214599269 Accuracy:  0.75\n",
      "New set of weights and biases found at epoch:  474 Loss:  0.5878500350672655 Accuracy:  0.75\n",
      "New set of weights and biases found at epoch:  475 Loss:  0.5805123816317896 Accuracy:  0.75\n",
      "New set of weights and biases found at epoch:  483 Loss:  0.5785229499597013 Accuracy:  0.75\n",
      "New set of weights and biases found at epoch:  491 Loss:  0.5735434466760592 Accuracy:  0.75\n",
      "New set of weights and biases found at epoch:  492 Loss:  0.5684201487294193 Accuracy:  0.75\n",
      "New set of weights and biases found at epoch:  496 Loss:  0.5668749094318152 Accuracy:  0.75\n",
      "New set of weights and biases found at epoch:  530 Loss:  0.5650024795680318 Accuracy:  0.75\n",
      "New set of weights and biases found at epoch:  537 Loss:  0.5597952533876032 Accuracy:  0.75\n",
      "New set of weights and biases found at epoch:  549 Loss:  0.5554651314061521 Accuracy:  0.75\n",
      "New set of weights and biases found at epoch:  551 Loss:  0.5474445572989121 Accuracy:  0.75\n",
      "New set of weights and biases found at epoch:  561 Loss:  0.5420204746059976 Accuracy:  0.75\n",
      "New set of weights and biases found at epoch:  572 Loss:  0.5410996229077905 Accuracy:  0.75\n",
      "New set of weights and biases found at epoch:  611 Loss:  0.5399351537315443 Accuracy:  0.75\n",
      "New set of weights and biases found at epoch:  613 Loss:  0.5376388899433628 Accuracy:  0.75\n",
      "New set of weights and biases found at epoch:  646 Loss:  0.534957573740318 Accuracy:  0.75\n",
      "New set of weights and biases found at epoch:  678 Loss:  0.5313293150533784 Accuracy:  0.75\n",
      "New set of weights and biases found at epoch:  679 Loss:  0.5290010200578161 Accuracy:  0.75\n",
      "New set of weights and biases found at epoch:  692 Loss:  0.5265701981539268 Accuracy:  0.75\n",
      "New set of weights and biases found at epoch:  729 Loss:  0.524314768767652 Accuracy:  0.75\n",
      "New set of weights and biases found at epoch:  742 Loss:  0.521890498841658 Accuracy:  0.75\n",
      "New set of weights and biases found at epoch:  752 Loss:  0.521711034652957 Accuracy:  0.75\n",
      "New set of weights and biases found at epoch:  763 Loss:  0.514738275821433 Accuracy:  0.75\n",
      "New set of weights and biases found at epoch:  764 Loss:  0.5073715714318203 Accuracy:  0.75\n",
      "New set of weights and biases found at epoch:  778 Loss:  0.5060433486056053 Accuracy:  0.75\n",
      "New set of weights and biases found at epoch:  806 Loss:  0.505285079638888 Accuracy:  0.75\n",
      "New set of weights and biases found at epoch:  812 Loss:  0.49892399688983824 Accuracy:  0.75\n",
      "New set of weights and biases found at epoch:  817 Loss:  0.4970729733349011 Accuracy:  0.75\n",
      "New set of weights and biases found at epoch:  818 Loss:  0.4931004416073944 Accuracy:  0.5\n",
      "New set of weights and biases found at epoch:  819 Loss:  0.491943215801411 Accuracy:  0.5\n",
      "New set of weights and biases found at epoch:  827 Loss:  0.48994095793361647 Accuracy:  0.75\n",
      "New set of weights and biases found at epoch:  828 Loss:  0.48387897394651147 Accuracy:  0.75\n",
      "New set of weights and biases found at epoch:  829 Loss:  0.47545559975251983 Accuracy:  0.75\n",
      "New set of weights and biases found at epoch:  830 Loss:  0.47309438461288955 Accuracy:  0.75\n",
      "New set of weights and biases found at epoch:  833 Loss:  0.4673507554107109 Accuracy:  0.75\n",
      "New set of weights and biases found at epoch:  835 Loss:  0.4658363820978263 Accuracy:  0.75\n",
      "New set of weights and biases found at epoch:  836 Loss:  0.4573317750503632 Accuracy:  0.75\n",
      "New set of weights and biases found at epoch:  854 Loss:  0.45578896566316074 Accuracy:  0.75\n",
      "New set of weights and biases found at epoch:  855 Loss:  0.4548513271960409 Accuracy:  0.75\n",
      "New set of weights and biases found at epoch:  860 Loss:  0.4437768506037005 Accuracy:  0.75\n",
      "New set of weights and biases found at epoch:  861 Loss:  0.43718966841395096 Accuracy:  0.75\n",
      "New set of weights and biases found at epoch:  890 Loss:  0.4358682536934887 Accuracy:  0.75\n",
      "New set of weights and biases found at epoch:  894 Loss:  0.4334900134238385 Accuracy:  0.75\n",
      "New set of weights and biases found at epoch:  905 Loss:  0.4326289112849948 Accuracy:  0.75\n",
      "New set of weights and biases found at epoch:  906 Loss:  0.4305546312111783 Accuracy:  0.75\n",
      "New set of weights and biases found at epoch:  907 Loss:  0.4285994149143527 Accuracy:  1.0\n",
      "New set of weights and biases found at epoch:  910 Loss:  0.42686285358014664 Accuracy:  0.75\n",
      "New set of weights and biases found at epoch:  911 Loss:  0.4222744899982581 Accuracy:  0.75\n",
      "New set of weights and biases found at epoch:  939 Loss:  0.42071449005050204 Accuracy:  0.75\n",
      "New set of weights and biases found at epoch:  941 Loss:  0.41916670958720825 Accuracy:  0.75\n",
      "New set of weights and biases found at epoch:  942 Loss:  0.41862830876909823 Accuracy:  0.75\n",
      "New set of weights and biases found at epoch:  943 Loss:  0.4169964015383568 Accuracy:  0.75\n",
      "New set of weights and biases found at epoch:  945 Loss:  0.4083936361565539 Accuracy:  0.75\n",
      "New set of weights and biases found at epoch:  947 Loss:  0.4045646054746589 Accuracy:  1.0\n",
      "New set of weights and biases found at epoch:  977 Loss:  0.40114050697362014 Accuracy:  1.0\n",
      "New set of weights and biases found at epoch:  978 Loss:  0.3964509117212369 Accuracy:  0.75\n",
      "New set of weights and biases found at epoch:  979 Loss:  0.37509109930611795 Accuracy:  1.0\n"
     ]
    }
   ],
   "source": [
    "layer1 = Layer_Dense(2, 3)\n",
    "activation_relu = Activation_ReLU()\n",
    "layer2 = Layer_Dense(3, 2)\n",
    "activation_softmax = Activation_Softmax()\n",
    "\n",
    "loss_function = Loss_CategoricalCrossEntropy()\n",
    "accuracy_function = Accuracy()\n",
    " \n",
    "best_weights_layer1 = layer1.weights.copy()\n",
    "best_biases_layer1 = layer1.biases.copy()\n",
    "best_weights_layer2 = layer2.weights.copy()\n",
    "best_biases_layer2 = layer2.biases.copy()\n",
    "\n",
    "network_architecture = [\n",
    "    layer1,\n",
    "    activation_relu,\n",
    "    layer2,\n",
    "    activation_softmax\n",
    "]\n",
    "\n",
    "lowest_loss = 999999\n",
    "\n",
    "for epoch in range(1000):\n",
    "    layer1.weights += 0.05 * np.random.randn(2, 3)\n",
    "    layer1.biases += 0.05 * np.random.randn(1, 3)\n",
    "    layer2.weights += 0.05 * np.random.randn(3, 2)\n",
    "    layer2.biases += 0.05 * np.random.randn(1, 2)\n",
    "\n",
    "    input = X\n",
    "    for layer in network_architecture:\n",
    "        layer.forward(input)\n",
    "        input = layer.output\n",
    "\n",
    "    softmax_outputs = input\n",
    "    loss = loss_function.calculate(softmax_outputs, y)\n",
    "    accuracy = accuracy_function.calculate(softmax_outputs, y)\n",
    "\n",
    "    if loss<lowest_loss:\n",
    "        print(\"New set of weights and biases found at epoch: \", epoch, \"Loss: \", loss, \"Accuracy: \", accuracy)\n",
    "        best_weights_layer1 = layer1.weights\n",
    "        best_biases_layer1 = layer1.biases\n",
    "        best_weights_layer2 = layer2.weights\n",
    "        best_biases_layer2 = layer2.biases\n",
    "        lowest_loss = loss\n",
    "    else:\n",
    "        layer1.weights = best_weights_layer1.copy()\n",
    "        layer1.biases = best_biases_layer1.copy()\n",
    "        layer2.weights = best_weights_layer2.copy()\n",
    "        layer2.biases = best_biases_layer2.copy()"
   ]
  },
  {
   "cell_type": "code",
   "execution_count": null,
   "id": "84cc2f31-3884-4d80-a657-c838e3bab614",
   "metadata": {},
   "outputs": [],
   "source": []
  }
 ],
 "metadata": {
  "kernelspec": {
   "display_name": "nn_from_scratch",
   "language": "python",
   "name": "nn_from_scratch"
  },
  "language_info": {
   "codemirror_mode": {
    "name": "ipython",
    "version": 3
   },
   "file_extension": ".py",
   "mimetype": "text/x-python",
   "name": "python",
   "nbconvert_exporter": "python",
   "pygments_lexer": "ipython3",
   "version": "3.13.2"
  }
 },
 "nbformat": 4,
 "nbformat_minor": 5
}
