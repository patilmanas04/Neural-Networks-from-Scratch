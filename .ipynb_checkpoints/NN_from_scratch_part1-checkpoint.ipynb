{
 "cells": [
  {
   "cell_type": "markdown",
   "id": "b14c9324",
   "metadata": {},
   "source": [
    "# Single Neuron with 3 inputs"
   ]
  },
  {
   "cell_type": "code",
   "execution_count": 1,
   "id": "befd0cb3",
   "metadata": {},
   "outputs": [
    {
     "name": "stdout",
     "output_type": "stream",
     "text": [
      "2.9\n"
     ]
    }
   ],
   "source": [
    "inputs = [1, 2, 4]\n",
    "weights = [0.2, 0.5, 0.3]\n",
    "bias = 0.5\n",
    "\n",
    "output = (inputs[0]*weights[0] + inputs[1]*weights[1] + inputs[2]*weights[2] + bias)\n",
    "\n",
    "print(output)"
   ]
  },
  {
   "cell_type": "markdown",
   "id": "b30bfb5c",
   "metadata": {},
   "source": [
    "# Single Neuron with 4 inputs"
   ]
  },
  {
   "cell_type": "code",
   "execution_count": 5,
   "id": "0de1a8d6",
   "metadata": {},
   "outputs": [
    {
     "name": "stdout",
     "output_type": "stream",
     "text": [
      "-0.20000000000000007\n"
     ]
    }
   ],
   "source": [
    "inputs = [1, 2, 4, 6]\n",
    "weights = [0.2, 0.5, 0.3, -0.5]\n",
    "bias = 0.4\n",
    "\n",
    "output = (inputs[0]*weights[0] + inputs[1]*weights[1] + inputs[2]*weights[2] + inputs[3]*weights[3] + bias)\n",
    "\n",
    "print(output)"
   ]
  },
  {
   "cell_type": "markdown",
   "id": "335a58b3",
   "metadata": {},
   "source": [
    "# Coding Layer of 3 Neurons with 4 inputs"
   ]
  },
  {
   "cell_type": "code",
   "execution_count": 10,
   "id": "57ad143d",
   "metadata": {},
   "outputs": [
    {
     "name": "stdout",
     "output_type": "stream",
     "text": [
      "[4.8, 1.21, 2.385]\n"
     ]
    }
   ],
   "source": [
    "inputs = [1, 2, 3, 2.5]\n",
    "weights = [[0.2, 0.8, -0.5, 1],\n",
    "           [0.5, -0.91, 0.26, -0.5],\n",
    "           [-0.26, -0.27, 0.17, 0.87]]\n",
    "\n",
    "biases = [2, 3, 0.5]\n",
    "\n",
    "layer_outputs = []\n",
    "\n",
    "for neuron_weights, neuron_bias in zip(weights, biases):\n",
    "  neuron_output = 0\n",
    "\n",
    "  for neuron_input, weight in zip(inputs, neuron_weights):\n",
    "    neuron_output += neuron_input*weight\n",
    "\n",
    "  neuron_output += neuron_bias\n",
    "\n",
    "  layer_outputs.append(neuron_output)\n",
    "\n",
    "print(layer_outputs)\n"
   ]
  }
 ],
 "metadata": {
  "kernelspec": {
   "display_name": "hibiscus_cnn_model",
   "language": "python",
   "name": "python3"
  },
  "language_info": {
   "codemirror_mode": {
    "name": "ipython",
    "version": 3
   },
   "file_extension": ".py",
   "mimetype": "text/x-python",
   "name": "python",
   "nbconvert_exporter": "python",
   "pygments_lexer": "ipython3",
   "version": "3.10.16"
  }
 },
 "nbformat": 4,
 "nbformat_minor": 5
}
