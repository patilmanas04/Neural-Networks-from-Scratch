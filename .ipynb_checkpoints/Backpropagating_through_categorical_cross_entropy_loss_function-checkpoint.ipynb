{
 "cells": [
  {
   "cell_type": "code",
   "execution_count": 2,
   "id": "07cd7f7e-a657-4a0c-99eb-76d612330d3a",
   "metadata": {},
   "outputs": [],
   "source": [
    "import numpy as np"
   ]
  },
  {
   "cell_type": "markdown",
   "id": "6b7314b4-2e27-4dd3-b1e7-95df0657e3fd",
   "metadata": {},
   "source": [
    "# Defining the Categorical Cross Entropy Loss with \"backward\" method"
   ]
  },
  {
   "cell_type": "code",
   "execution_count": 5,
   "id": "cc0ee7f3-432a-4f03-ad1b-e334c7f85b8d",
   "metadata": {},
   "outputs": [
    {
     "name": "stdout",
     "output_type": "stream",
     "text": [
      "[[-0.  -2.  -0.  -0. ]\n",
      " [-0.  -0.  -2.5 -0. ]\n",
      " [-0.  -0.  -0.  -2.5]]\n",
      "[[-0.         -0.66666667 -0.         -0.        ]\n",
      " [-0.         -0.         -0.83333333 -0.        ]\n",
      " [-0.         -0.         -0.         -0.83333333]]\n"
     ]
    }
   ],
   "source": [
    "class Loss_CategoricalCrossEntropy:\n",
    "    def forward(self, y_pred, y_true):\n",
    "        y_pred_clipped = np.clip(y_pred, 1e-7, 1-1e-7)\n",
    "        y_true = y_true\n",
    "\n",
    "        if len(y_pred.shape) == 1:\n",
    "            correct_confidences = y_pred_clipped[range(len(y_pred_clipped)), y_true]\n",
    "\n",
    "        if len(y_pred.shape) == 2:\n",
    "            correct_confidences = np.sum(y_pred_clipped * y_true, axis=1)\n",
    "\n",
    "        negative_log_likelihoods = -np.log(correct_confidences)\n",
    "        return negative_log_likelihoods\n",
    "\n",
    "    def backward(self, y_pred,y_true):\n",
    "        y_pred_clipped = np.clip(y_pred, 1e-7, 1-1e-7)\n",
    "        no_of_batches = len(y_pred)\n",
    "        no_of_labels = len(y_pred[0])\n",
    "        \n",
    "        if len(y_true.shape) == 1:\n",
    "            y_true = np.eye(no_of_labels)[y_true]\n",
    "\n",
    "        # Calculating gradient\n",
    "        self.dL_dycap = -y_true / y_pred # Here ycap means the predictions\n",
    "        \n",
    "        # Applying the normalization on gradient\n",
    "        self.normalized_dL_dycap = self.dL_dycap / no_of_batches\n",
    "\n",
    "y_pred = np.array([[.1, .5, .3, .1],\n",
    "                   [.2, .1, .4, .3],\n",
    "                   [.3, .2, .1, .4]])\n",
    "y_true = np.array([1, 2, 3])\n",
    "loss_function = Loss_CategoricalCrossEntropy()\n",
    "loss_function.backward(y_pred, y_true)\n",
    "print(loss_function.dL_dycap)\n",
    "print(loss_function.normalized_dL_dycap)"
   ]
  }
 ],
 "metadata": {
  "kernelspec": {
   "display_name": "nn_from_scratch",
   "language": "python",
   "name": "nn_from_scratch"
  },
  "language_info": {
   "codemirror_mode": {
    "name": "ipython",
    "version": 3
   },
   "file_extension": ".py",
   "mimetype": "text/x-python",
   "name": "python",
   "nbconvert_exporter": "python",
   "pygments_lexer": "ipython3",
   "version": "3.13.2"
  }
 },
 "nbformat": 4,
 "nbformat_minor": 5
}
