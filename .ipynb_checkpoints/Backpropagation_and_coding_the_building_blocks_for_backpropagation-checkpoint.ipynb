{
 "cells": [
  {
   "cell_type": "code",
   "execution_count": 3,
   "id": "1d79a386-0718-4f56-94e1-100aa8810fcb",
   "metadata": {},
   "outputs": [],
   "source": [
    "import numpy as np"
   ]
  },
  {
   "cell_type": "markdown",
   "id": "3a06c25f-ba70-4a4f-9302-23c96df85e50",
   "metadata": {},
   "source": [
    "# Backpropagation"
   ]
  },
  {
   "cell_type": "markdown",
   "id": "626fd280-23d7-40a5-bca5-5e70e997bb7e",
   "metadata": {},
   "source": [
    "## 1. Gradient of loss with respect to weights"
   ]
  },
  {
   "cell_type": "code",
   "execution_count": 4,
   "id": "d6cd340d-4388-4696-9419-b256d941d92a",
   "metadata": {},
   "outputs": [
    {
     "name": "stdout",
     "output_type": "stream",
     "text": [
      "[[ 0.5  0.5  0.5]\n",
      " [20.1 20.1 20.1]\n",
      " [10.9 10.9 10.9]\n",
      " [ 4.1  4.1  4.1]]\n"
     ]
    }
   ],
   "source": [
    "inputs = np.array([[1, 2, 3, 2.5],\n",
    "                   [2, 5, -1, 2],\n",
    "                   [-1.5, 2.7, 3.3, -0.8]])\n",
    "\n",
    "dL_dz = np.array([[1, 1, 1],\n",
    "                  [2, 2, 2],\n",
    "                  [3, 3, 3]])\n",
    "\n",
    "# Gradient of loss with respect to weights\n",
    "dL_dw = np.dot(inputs.T, dL_dz)\n",
    "print(dL_dw)"
   ]
  },
  {
   "cell_type": "markdown",
   "id": "3fa2e7e6-d76c-4131-88a5-0a43a380fadc",
   "metadata": {},
   "source": [
    "## 2. Gradient of loss with respect to biases"
   ]
  },
  {
   "cell_type": "code",
   "execution_count": 5,
   "id": "ebbd8730-965a-4068-9839-0708e64f0289",
   "metadata": {},
   "outputs": [
    {
     "name": "stdout",
     "output_type": "stream",
     "text": [
      "[[6 6 6]]\n"
     ]
    }
   ],
   "source": [
    "# Gradient of loss with respect to \n",
    "dL_db = np.sum(dL_dz, axis=0, keepdims=True)\n",
    "print(dL_db)"
   ]
  },
  {
   "cell_type": "markdown",
   "id": "dcdca670-a2ec-4623-81a7-b2683db87356",
   "metadata": {},
   "source": [
    "## 3. Gradient of loss with respect to inputs"
   ]
  },
  {
   "cell_type": "code",
   "execution_count": 6,
   "id": "003db4d9-bff7-4c85-8aa6-66bf12abfac2",
   "metadata": {},
   "outputs": [
    {
     "name": "stdout",
     "output_type": "stream",
     "text": [
      "[[ 0.44 -0.38 -0.07  1.37]\n",
      " [ 0.88 -0.76 -0.14  2.74]\n",
      " [ 1.32 -1.14 -0.21  4.11]]\n"
     ]
    }
   ],
   "source": [
    "weights = np.array([[0.2, 0.8, -0.5, 1],\n",
    "                    [0.5, -0.91, 0.26, -0.5],\n",
    "                    [-0.26, -0.27, 0.17, 0.87]]).T\n",
    "dL_dX = np.dot(dL_dz, weights.T)\n",
    "print(dL_dX)"
   ]
  },
  {
   "cell_type": "markdown",
   "id": "04a0812f-34af-42e3-aaf7-cd8d46272666",
   "metadata": {},
   "source": [
    "## 4. Adding the \"backward\" method in the Layer_Dense class"
   ]
  },
  {
   "cell_type": "code",
   "execution_count": 7,
   "id": "ae56d4bc-b7b6-4ae4-b1e6-c51017583a99",
   "metadata": {},
   "outputs": [],
   "source": [
    "class Layer_Dense:\n",
    "    def __init__(self, n_inputs, n_neurons):\n",
    "        self.n_inputs = n_inputs\n",
    "        self.n_neurons = n_neurons\n",
    "        self.weights = 0.01 * np.random.randn(n_inputs, n_neurons)\n",
    "        self.biases = np.zeros((1, n_neurons))\n",
    "\n",
    "    def forward(self, inputs):\n",
    "        self.inputs = inputs\n",
    "        self.output = np.dot(inputs, self.weights) + self.biases\n",
    "\n",
    "    def backward(self, dL_dz):\n",
    "        self.dL_dw = np.dot(self.inputs.T, dL_dz)\n",
    "        self.dL_db = np.sum(dL_dz, axis=0, keepdims=True)\n",
    "        self.dL_dX = np.dot(dL_dz, self.weights.T)"
   ]
  },
  {
   "cell_type": "markdown",
   "id": "8ba27f25-1aa9-4f37-bff9-e86c50efead5",
   "metadata": {},
   "source": [
    "## 5. Now adding the \"backward\" method in the ReLU Activation and backpropagating through the relu activation function"
   ]
  },
  {
   "cell_type": "code",
   "execution_count": 8,
   "id": "ab1b4c17-caa5-497b-89d6-93104d9dee0d",
   "metadata": {},
   "outputs": [],
   "source": [
    "class Activation_ReLU:\n",
    "    def forward(self, inputs):\n",
    "        self.inputs = inputs\n",
    "        self.output = np.maximum(0, inputs)\n",
    "\n",
    "    def backward(self, dL_da):\n",
    "        # Here dL_da is the gradient of L with respect to a. a is the output of the ReLU activation function, a = ReLU(z)\n",
    "        # We have been given dL_da and we have to find dL_dz (gradient of loss with respect to z), here z is the output of the previous layer which will pass through the activation function\n",
    "        # So we are basically backpropagating through the relu activation function\n",
    "        self.dL_dz = dL_da.copy()\n",
    "        self.dL_dz[self.inputs<=0] = 0"
   ]
  },
  {
   "cell_type": "markdown",
   "id": "787f6106-845a-485b-a659-af21fefc47e8",
   "metadata": {},
   "source": [
    "## 6. Defining the Categorical Cross Entropy Loss with \"backward\" method"
   ]
  },
  {
   "cell_type": "code",
   "execution_count": 9,
   "id": "780a0586-5e3c-4058-a86a-a11497a8cefb",
   "metadata": {},
   "outputs": [
    {
     "name": "stdout",
     "output_type": "stream",
     "text": [
      "[[-0.  -2.  -0.  -0. ]\n",
      " [-0.  -0.  -2.5 -0. ]\n",
      " [-0.  -0.  -0.  -2.5]]\n",
      "[[-0.         -0.66666667 -0.         -0.        ]\n",
      " [-0.         -0.         -0.83333333 -0.        ]\n",
      " [-0.         -0.         -0.         -0.83333333]]\n"
     ]
    }
   ],
   "source": [
    "class Loss:\n",
    "    def calculate(self, y_pred, y_true):\n",
    "        negative_log_likelihoods = self.forward(y_pred, y_true)\n",
    "        avg_loss = np.mean(negative_log_likelihoods)\n",
    "        return avg_loss\n",
    "\n",
    "class Loss_CategoricalCrossEntropy(Loss): \n",
    "    def forward(self, y_pred, y_true):\n",
    "        y_pred_clipped = np.clip(y_pred, 1e-7, 1-1e-7)\n",
    "        y_true = y_true\n",
    "\n",
    "        if len(y_true.shape) == 1:\n",
    "            correct_confidences = y_pred_clipped[range(len(y_pred_clipped)), y_true]\n",
    "\n",
    "        if len(y_true.shape) == 2:\n",
    "            correct_confidences = np.sum(y_pred_clipped * y_true, axis=1)\n",
    "\n",
    "        negative_log_likelihoods = -np.log(correct_confidences)\n",
    "        return negative_log_likelihoods\n",
    "\n",
    "    def backward(self, y_pred,y_true):\n",
    "        y_pred_clipped = np.clip(y_pred, 1e-7, 1-1e-7)\n",
    "        no_of_batches = len(y_pred)\n",
    "        no_of_labels = len(y_pred[0])\n",
    "        \n",
    "        if len(y_true.shape) == 1:\n",
    "            y_true = np.eye(no_of_labels)[y_true]\n",
    "\n",
    "        # Calculating gradient\n",
    "        self.dL_dycap = -y_true / y_pred # Here ycap means the predictions\n",
    "        \n",
    "        # Applying the normalization on gradient\n",
    "        self.normalized_dL_dycap = self.dL_dycap / no_of_batches\n",
    "\n",
    "y_pred = np.array([[.1, .5, .3, .1],\n",
    "                   [.2, .1, .4, .3],\n",
    "                   [.3, .2, .1, .4]])\n",
    "y_true = np.array([1, 2, 3])\n",
    "loss_function = Loss_CategoricalCrossEntropy()\n",
    "loss_function.backward(y_pred, y_true)\n",
    "print(loss_function.dL_dycap)\n",
    "print(loss_function.normalized_dL_dycap)"
   ]
  },
  {
   "cell_type": "markdown",
   "id": "8afb7b1c-46ad-422c-9402-9f13e0ca458c",
   "metadata": {},
   "source": [
    "## 7. Softmax classifier - combined Softmax activation with categorical cross entropy loss function for faster \"backward\" step"
   ]
  },
  {
   "cell_type": "code",
   "execution_count": 10,
   "id": "d140cc69-6e94-4b46-8753-4a8a62e4c098",
   "metadata": {},
   "outputs": [
    {
     "name": "stdout",
     "output_type": "stream",
     "text": [
      "Gradients: Combined loss and softmax activation ->\n",
      "[[-0.1         0.03333333  0.06666667]\n",
      " [ 0.03333333 -0.16666667  0.13333333]\n",
      " [ 0.00666667 -0.03333333  0.02666667]]\n"
     ]
    }
   ],
   "source": [
    "class Activation_Softmax:\n",
    "    def forward(self, final_layer_outputs):\n",
    "        exp_values = np.exp(final_layer_outputs - np.max(final_layer_outputs, axis=1, keepdims=True))\n",
    "        probabilities = exp_values / np.sum(exp_values, axis=1, keepdims=True)\n",
    "        self.output = probabilities\n",
    "\n",
    "class Activation_Softmax_Loss_CategoricalCrossEntropy:\n",
    "    def __init__(self):\n",
    "        self.activation_softmax = Activation_Softmax()\n",
    "        self.loss_function = Loss_CategoricalCrossEntropy()\n",
    "    \n",
    "    def forward(self, final_layer_outputs, y_true):\n",
    "        # Calculating softmax activation outputs\n",
    "        self.activation_softmax.forward(final_layer_outputs)\n",
    "        self.output = self.activation_softmax.output\n",
    "\n",
    "        # Calculating loss\n",
    "        self.loss = self.loss_function.calculate(self.output, y_true)\n",
    "        return self.loss\n",
    "\n",
    "    def backward(self, softmax_outputs, y_true):\n",
    "        no_of_batches = len(softmax_outputs)\n",
    "\n",
    "        # Converting the y_true to discrete vector if it is in one hot encoding\n",
    "        if len(y_true.shape) == 2:\n",
    "            y_true = np.argmax(y_true, axis=1)\n",
    "\n",
    "        self.dL_dz = softmax_outputs.copy()\n",
    "        # Calculating gradient\n",
    "        self.dL_dz[range(no_of_batches), y_true] -= 1\n",
    "\n",
    "        # Applying normalization\n",
    "        self.dL_dz = self.dL_dz / no_of_batches\n",
    "\n",
    "softmax_outputs = np.array([[.7, .1, .2],\n",
    "                            [.1, .5, .4],\n",
    "                            [.02, .9, .08]])\n",
    "class_targets = np.array([0, 1, 1])\n",
    "softmax_loss = Activation_Softmax_Loss_CategoricalCrossEntropy()\n",
    "softmax_loss.backward(softmax_outputs, class_targets)\n",
    "normalized_dL_dz = softmax_loss.dL_dz\n",
    "print(\"Gradients: Combined loss and softmax activation ->\")\n",
    "print(normalized_dL_dz)"
   ]
  },
  {
   "cell_type": "markdown",
   "id": "50b1d2d6-fbb4-491b-86fd-496e02ef9d05",
   "metadata": {},
   "source": [
    "# Coding the forward and backward pass"
   ]
  },
  {
   "cell_type": "markdown",
   "id": "7a6fa709-8e18-4173-80e0-06c19021a569",
   "metadata": {},
   "source": [
    "## 1. Load the spiral dataset"
   ]
  },
  {
   "cell_type": "code",
   "execution_count": 11,
   "id": "8d7ba017-8963-47e2-b87f-4933b0cdc7c6",
   "metadata": {},
   "outputs": [
    {
     "name": "stdout",
     "output_type": "stream",
     "text": [
      "[[-0.          0.        ]\n",
      " [ 0.00326401  0.00955911]\n",
      " [ 0.01809646  0.00897997]\n",
      " [ 0.0287321   0.00963017]\n",
      " [ 0.02052672  0.03480144]]\n"
     ]
    },
    {
     "data": {
      "image/png": "[encoded data removed]",
      "text/plain": [
       "<Figure size 640x480 with 1 Axes>"
      ]
     },
     "metadata": {},
     "output_type": "display_data"
    }
   ],
   "source": [
    "from nnfs.datasets import spiral_data\n",
    "import matplotlib.pyplot as plt\n",
    "\n",
    "X, y = spiral_data(samples=100, classes=3)\n",
    "print(X[:5])\n",
    "plt.scatter(X[:, 0], X[:, 1], c=y, cmap=\"brg\")\n",
    "plt.show()"
   ]
  },
  {
   "cell_type": "markdown",
   "id": "b37f80f7-e9af-49a9-b5aa-6d6f6d017db0",
   "metadata": {},
   "source": [
    "## 2. Forward and Backward pass "
   ]
  },
  {
   "cell_type": "code",
   "execution_count": 12,
   "id": "883994f6-d3b6-4028-9673-3f2dae715848",
   "metadata": {},
   "outputs": [
    {
     "name": "stdout",
     "output_type": "stream",
     "text": [
      "Softmax Outputs ->\n",
      " [[0.33333333 0.33333333 0.33333333]\n",
      " [0.33333324 0.33333358 0.33333318]\n",
      " [0.33333316 0.33333379 0.33333305]]\n",
      "Loss: 1.0986125347146676\n",
      "Accuracy: 0.32666666666666666\n",
      "[[-2.83146659e-04  2.27302367e-05 -1.82437330e-04]\n",
      " [-2.20309695e-04 -1.99319912e-04 -4.76809413e-04]]\n",
      "[[ 6.42675229e-04 -3.06824269e-05  7.85531213e-06]]\n",
      "[[ 5.30086453e-05 -1.21438105e-05 -4.08648348e-05]\n",
      " [ 8.30012704e-05 -2.03343298e-04  1.20342027e-04]\n",
      " [ 1.61595332e-04 -1.29285407e-04 -3.23099247e-05]]\n",
      "[[ 8.58705254e-06  1.19681645e-05 -2.05552170e-05]]\n"
     ]
    }
   ],
   "source": [
    "# Defining learning rate\n",
    "learning_rate = 0.001\n",
    "\n",
    "# Defining the classes\n",
    "dense_layer1 = Layer_Dense(2, 3)\n",
    "activation_relu = Activation_ReLU()\n",
    "dense_layer2 = Layer_Dense(3, 3)\n",
    "loss_activation_softmax = Activation_Softmax_Loss_CategoricalCrossEntropy()\n",
    "\n",
    "# Forward pass\n",
    "dense_layer1.forward(X)\n",
    "activation_relu.forward(dense_layer1.output)\n",
    "dense_layer2.forward(activation_relu.output)\n",
    "loss_activation_softmax.forward(dense_layer2.output, y)\n",
    "print(\"Softmax Outputs ->\\n\", loss_activation_softmax.output[:3])\n",
    "\n",
    "# Printing performance matrices\n",
    "print(\"Loss:\", loss_activation_softmax.loss)\n",
    "predictions = np.argmax(loss_activation_softmax.output, axis=1)\n",
    "accuracy = np.mean(predictions==y)\n",
    "print(\"Accuracy:\", accuracy)\n",
    "\n",
    "# Backward pass\n",
    "loss_activation_softmax.backward(loss_activation_softmax.output, y)\n",
    "dense_layer2.backward(loss_activation_softmax.dL_dz)\n",
    "activation_relu.backward(dense_layer2.dL_dX)\n",
    "dense_layer1.backward(activation_relu.dL_dz)\n",
    "\n",
    "# Gradients of weights and biases\n",
    "print(dense_layer1.dL_dw)\n",
    "print(dense_layer1.dL_db)\n",
    "print(dense_layer2.dL_dw)\n",
    "print(dense_layer2.dL_db)"
   ]
  },
  {
   "cell_type": "markdown",
   "id": "122c56e0-c9e6-4846-a656-6d680881527d",
   "metadata": {},
   "source": [
    "## 3. Applying gradient decent"
   ]
  },
  {
   "cell_type": "code",
   "execution_count": 13,
   "id": "2c980468-46ab-4825-b1d1-ce8c1e8b9ffa",
   "metadata": {},
   "outputs": [],
   "source": [
    "dense_layer1.weights -= learning_rate*dense_layer1.dL_dw\n",
    "dense_layer1.biases -= learning_rate*dense_layer1.dL_db\n",
    "dense_layer2.weights -= learning_rate*dense_layer2.dL_dw\n",
    "dense_layer2.biases -= learning_rate*dense_layer2.dL_db"
   ]
  },
  {
   "cell_type": "markdown",
   "id": "5a291ea1-3787-4b67-aab0-1a4d6c0938f4",
   "metadata": {},
   "source": [
    "## 4. Finding the loss and accuracy after gradient decent"
   ]
  },
  {
   "cell_type": "code",
   "execution_count": 14,
   "id": "913925d5-5358-4f01-9397-7f7c9533cacf",
   "metadata": {},
   "outputs": [
    {
     "name": "stdout",
     "output_type": "stream",
     "text": [
      "Softmax Outputs ->\n",
      " [[0.33333333 0.33333333 0.33333334]\n",
      " [0.33333324 0.33333357 0.33333319]\n",
      " [0.33333315 0.33333379 0.33333306]]\n",
      "Loss: 1.09861253375919\n",
      "Accuracy: 0.32\n"
     ]
    }
   ],
   "source": [
    "# Forward pass\n",
    "dense_layer1.forward(X)\n",
    "activation_relu.forward(dense_layer1.output)\n",
    "dense_layer2.forward(activation_relu.output)\n",
    "loss_activation_softmax.forward(dense_layer2.output, y)\n",
    "print(\"Softmax Outputs ->\\n\", loss_activation_softmax.output[:3])\n",
    "\n",
    "# Printing performance matrices\n",
    "print(\"Loss:\", loss_activation_softmax.loss)\n",
    "predictions = np.argmax(loss_activation_softmax.output, axis=1)\n",
    "accuracy = np.mean(predictions==y)\n",
    "print(\"Accuracy:\", accuracy)"
   ]
  },
  {
   "cell_type": "markdown",
   "id": "248e05dd-39da-4b94-a471-6f65b4467fc0",
   "metadata": {},
   "source": [
    "# Coding Gradient Descent Optimizer"
   ]
  },
  {
   "cell_type": "code",
   "execution_count": 15,
   "id": "9c84c112-335e-4b5b-b41f-4a49f4414f5e",
   "metadata": {},
   "outputs": [],
   "source": [
    "class Optimizer_SGD:\n",
    "    def __init__(self, learning_rate=1):\n",
    "        self.learning_rate = learning_rate\n",
    "\n",
    "    def update_params(self, layer):\n",
    "        layer.weights += -self.learning_rate * layer.dL_dw\n",
    "        layer.biases += -self.learning_rate * layer.dL_db"
   ]
  },
  {
   "cell_type": "markdown",
   "id": "96d4f5cd-5dac-40de-92e4-d007e9ba19ee",
   "metadata": {},
   "source": [
    "## Coding the whole neural network using optimizer"
   ]
  },
  {
   "cell_type": "code",
   "execution_count": 27,
   "id": "8c48512c-896e-47a6-8ba3-8a983c97c179",
   "metadata": {},
   "outputs": [
    {
     "name": "stdout",
     "output_type": "stream",
     "text": [
      "Epoch: 0 Accuracy: 0.343 Loss: 1.099\n",
      "Epoch: 100 Accuracy: 0.437 Loss: 1.071\n",
      "Epoch: 200 Accuracy: 0.447 Loss: 1.066\n",
      "Epoch: 300 Accuracy: 0.440 Loss: 1.063\n",
      "Epoch: 400 Accuracy: 0.440 Loss: 1.062\n",
      "Epoch: 500 Accuracy: 0.430 Loss: 1.059\n",
      "Epoch: 600 Accuracy: 0.437 Loss: 1.056\n",
      "Epoch: 700 Accuracy: 0.440 Loss: 1.048\n",
      "Epoch: 800 Accuracy: 0.423 Loss: 1.051\n",
      "Epoch: 900 Accuracy: 0.417 Loss: 1.046\n",
      "Epoch: 1000 Accuracy: 0.407 Loss: 1.041\n",
      "Epoch: 1100 Accuracy: 0.410 Loss: 1.039\n",
      "Epoch: 1200 Accuracy: 0.423 Loss: 1.034\n",
      "Epoch: 1300 Accuracy: 0.433 Loss: 1.026\n",
      "Epoch: 1400 Accuracy: 0.450 Loss: 1.018\n",
      "Epoch: 1500 Accuracy: 0.470 Loss: 1.009\n",
      "Epoch: 1600 Accuracy: 0.473 Loss: 1.011\n",
      "Epoch: 1700 Accuracy: 0.483 Loss: 0.986\n",
      "Epoch: 1800 Accuracy: 0.453 Loss: 1.013\n",
      "Epoch: 1900 Accuracy: 0.483 Loss: 0.985\n",
      "Epoch: 2000 Accuracy: 0.417 Loss: 0.988\n",
      "Epoch: 2100 Accuracy: 0.450 Loss: 0.975\n",
      "Epoch: 2200 Accuracy: 0.503 Loss: 0.978\n",
      "Epoch: 2300 Accuracy: 0.463 Loss: 0.968\n",
      "Epoch: 2400 Accuracy: 0.473 Loss: 0.972\n",
      "Epoch: 2500 Accuracy: 0.500 Loss: 0.977\n",
      "Epoch: 2600 Accuracy: 0.463 Loss: 0.966\n",
      "Epoch: 2700 Accuracy: 0.483 Loss: 0.949\n",
      "Epoch: 2800 Accuracy: 0.543 Loss: 0.942\n",
      "Epoch: 2900 Accuracy: 0.527 Loss: 0.900\n",
      "Epoch: 3000 Accuracy: 0.567 Loss: 0.902\n",
      "Epoch: 3100 Accuracy: 0.490 Loss: 0.899\n",
      "Epoch: 3200 Accuracy: 0.577 Loss: 0.858\n",
      "Epoch: 3300 Accuracy: 0.560 Loss: 0.841\n",
      "Epoch: 3400 Accuracy: 0.550 Loss: 0.820\n",
      "Epoch: 3500 Accuracy: 0.583 Loss: 0.809\n",
      "Epoch: 3600 Accuracy: 0.620 Loss: 0.791\n",
      "Epoch: 3700 Accuracy: 0.607 Loss: 0.791\n",
      "Epoch: 3800 Accuracy: 0.593 Loss: 0.793\n",
      "Epoch: 3900 Accuracy: 0.597 Loss: 0.788\n",
      "Epoch: 4000 Accuracy: 0.587 Loss: 0.778\n",
      "Epoch: 4100 Accuracy: 0.600 Loss: 0.778\n",
      "Epoch: 4200 Accuracy: 0.603 Loss: 0.778\n",
      "Epoch: 4300 Accuracy: 0.593 Loss: 0.793\n",
      "Epoch: 4400 Accuracy: 0.633 Loss: 0.773\n",
      "Epoch: 4500 Accuracy: 0.610 Loss: 0.763\n",
      "Epoch: 4600 Accuracy: 0.620 Loss: 0.766\n",
      "Epoch: 4700 Accuracy: 0.620 Loss: 0.768\n",
      "Epoch: 4800 Accuracy: 0.627 Loss: 0.771\n",
      "Epoch: 4900 Accuracy: 0.630 Loss: 0.823\n",
      "Epoch: 5000 Accuracy: 0.627 Loss: 0.772\n",
      "Epoch: 5100 Accuracy: 0.573 Loss: 0.761\n",
      "Epoch: 5200 Accuracy: 0.573 Loss: 0.798\n",
      "Epoch: 5300 Accuracy: 0.597 Loss: 0.773\n",
      "Epoch: 5400 Accuracy: 0.607 Loss: 0.878\n",
      "Epoch: 5500 Accuracy: 0.620 Loss: 0.772\n",
      "Epoch: 5600 Accuracy: 0.600 Loss: 0.785\n",
      "Epoch: 5700 Accuracy: 0.597 Loss: 0.770\n",
      "Epoch: 5800 Accuracy: 0.613 Loss: 0.768\n",
      "Epoch: 5900 Accuracy: 0.653 Loss: 0.774\n",
      "Epoch: 6000 Accuracy: 0.657 Loss: 0.762\n",
      "Epoch: 6100 Accuracy: 0.623 Loss: 0.767\n",
      "Epoch: 6200 Accuracy: 0.643 Loss: 0.757\n",
      "Epoch: 6300 Accuracy: 0.623 Loss: 0.756\n",
      "Epoch: 6400 Accuracy: 0.623 Loss: 0.757\n",
      "Epoch: 6500 Accuracy: 0.613 Loss: 0.778\n",
      "Epoch: 6600 Accuracy: 0.630 Loss: 0.757\n",
      "Epoch: 6700 Accuracy: 0.623 Loss: 0.751\n",
      "Epoch: 6800 Accuracy: 0.633 Loss: 0.739\n",
      "Epoch: 6900 Accuracy: 0.607 Loss: 0.772\n",
      "Epoch: 7000 Accuracy: 0.643 Loss: 0.745\n",
      "Epoch: 7100 Accuracy: 0.617 Loss: 0.740\n",
      "Epoch: 7200 Accuracy: 0.637 Loss: 0.704\n",
      "Epoch: 7300 Accuracy: 0.637 Loss: 0.728\n",
      "Epoch: 7400 Accuracy: 0.637 Loss: 0.713\n",
      "Epoch: 7500 Accuracy: 0.623 Loss: 0.724\n",
      "Epoch: 7600 Accuracy: 0.683 Loss: 0.720\n",
      "Epoch: 7700 Accuracy: 0.667 Loss: 0.702\n",
      "Epoch: 7800 Accuracy: 0.660 Loss: 0.716\n",
      "Epoch: 7900 Accuracy: 0.673 Loss: 0.695\n",
      "Epoch: 8000 Accuracy: 0.683 Loss: 0.698\n",
      "Epoch: 8100 Accuracy: 0.643 Loss: 0.723\n",
      "Epoch: 8200 Accuracy: 0.680 Loss: 0.681\n",
      "Epoch: 8300 Accuracy: 0.690 Loss: 0.671\n",
      "Epoch: 8400 Accuracy: 0.690 Loss: 0.663\n",
      "Epoch: 8500 Accuracy: 0.673 Loss: 0.700\n",
      "Epoch: 8600 Accuracy: 0.677 Loss: 0.634\n",
      "Epoch: 8700 Accuracy: 0.687 Loss: 0.634\n",
      "Epoch: 8800 Accuracy: 0.687 Loss: 0.634\n",
      "Epoch: 8900 Accuracy: 0.693 Loss: 0.664\n",
      "Epoch: 9000 Accuracy: 0.697 Loss: 0.649\n",
      "Epoch: 9100 Accuracy: 0.700 Loss: 0.644\n",
      "Epoch: 9200 Accuracy: 0.700 Loss: 0.626\n",
      "Epoch: 9300 Accuracy: 0.690 Loss: 0.621\n",
      "Epoch: 9400 Accuracy: 0.687 Loss: 0.620\n",
      "Epoch: 9500 Accuracy: 0.690 Loss: 0.657\n",
      "Epoch: 9600 Accuracy: 0.667 Loss: 0.703\n",
      "Epoch: 9700 Accuracy: 0.693 Loss: 0.665\n",
      "Epoch: 9800 Accuracy: 0.700 Loss: 0.635\n",
      "Epoch: 9900 Accuracy: 0.697 Loss: 0.634\n",
      "Epoch: 10000 Accuracy: 0.680 Loss: 0.628\n"
     ]
    }
   ],
   "source": [
    "# Loading the dataset\n",
    "X, y = spiral_data(samples=100, classes=3)\n",
    "\n",
    "# Defining the layers and activation functions\n",
    "dense1 = Layer_Dense(2, 64)\n",
    "relu_activation = Activation_ReLU()\n",
    "dense2 = Layer_Dense(64, 3)\n",
    "softmax_activation_loss = Activation_Softmax_Loss_CategoricalCrossEntropy()\n",
    "\n",
    "# Defining the optimized SGD\n",
    "optimizer_sdg = Optimizer_SGD()\n",
    "\n",
    "for epoch in range(10001):\n",
    "    # forward pass\n",
    "    dense1.forward(X)\n",
    "    relu_activation.forward(dense1.output)\n",
    "    dense2.forward(relu_activation.output)\n",
    "    softmax_activation_loss.forward(dense2.output, y)\n",
    "\n",
    "    loss = softmax_activation_loss.loss\n",
    "    predictions = np.argmax(softmax_activation_loss.output, axis=1)\n",
    "    accuracy = np.mean(predictions == y)\n",
    "\n",
    "    if epoch%100==0:\n",
    "        print(f'Epoch: {epoch} Accuracy: {accuracy:.3f} Loss: {loss:.3f}')\n",
    "    \n",
    "    # backward pass\n",
    "    softmax_activation_loss.backward(softmax_activation_loss.output, y)\n",
    "    dense2.backward(softmax_activation_loss.dL_dz)\n",
    "    relu_activation.backward(dense2.dL_dX)\n",
    "    dense1.backward(relu_activation.dL_dz)\n",
    "\n",
    "    # Updating weights and biases\n",
    "    optimizer_sdg.update_params(dense1)\n",
    "    optimizer_sdg.update_params(dense2)"
   ]
  },
  {
   "cell_type": "markdown",
   "id": "284788c8-0d20-417c-beec-8465ac39e6f8",
   "metadata": {},
   "source": [
    "# Coding Gradient Descent Optimizer with learning rate decay"
   ]
  },
  {
   "cell_type": "code",
   "execution_count": 22,
   "id": "3ac5cc1d-bec6-4688-9aba-9d776bd09c23",
   "metadata": {},
   "outputs": [],
   "source": [
    "class Optimizer_SGD:\n",
    "    def __init__(self, learning_rate=1, decay=0.):\n",
    "        self.learning_rate = learning_rate\n",
    "        self.current_learning_rate = learning_rate\n",
    "        self.decay = decay\n",
    "        self.epoch = 0\n",
    "\n",
    "    def pre_update_params(self):\n",
    "        self.current_learning_rate = self.learning_rate * (1. / (1. + self.decay*self.epoch))\n",
    "    \n",
    "    def update_params(self, layer):\n",
    "        layer.weights += -self.learning_rate * layer.dL_dw\n",
    "        layer.biases += -self.learning_rate * layer.dL_db\n",
    "\n",
    "    def post_update_params(self):\n",
    "        self.epoch += 1"
   ]
  },
  {
   "cell_type": "markdown",
   "id": "42849948-fbda-40bb-9709-d22d23ee53bd",
   "metadata": {},
   "source": [
    "# Coding the whole neural network using optimzer with decaying learning rate"
   ]
  },
  {
   "cell_type": "code",
   "execution_count": 26,
   "id": "9178fc41-8135-488d-9112-46e221eb0fba",
   "metadata": {},
   "outputs": [
    {
     "name": "stdout",
     "output_type": "stream",
     "text": [
      "Epoch: 0 Accuracy: 0.313 Loss: 1.099 lr: 1\n",
      "Epoch: 100 Accuracy: 0.411 Loss: 1.079 lr: 0.9099181073703367\n",
      "Epoch: 200 Accuracy: 0.418 Loss: 1.070 lr: 0.8340283569641367\n",
      "Epoch: 300 Accuracy: 0.416 Loss: 1.070 lr: 0.7698229407236336\n",
      "Epoch: 400 Accuracy: 0.415 Loss: 1.070 lr: 0.7147962830593281\n",
      "Epoch: 500 Accuracy: 0.416 Loss: 1.070 lr: 0.66711140760507\n",
      "Epoch: 600 Accuracy: 0.418 Loss: 1.069 lr: 0.6253908692933083\n",
      "Epoch: 700 Accuracy: 0.420 Loss: 1.068 lr: 0.5885815185403178\n",
      "Epoch: 800 Accuracy: 0.423 Loss: 1.065 lr: 0.5558643690939411\n",
      "Epoch: 900 Accuracy: 0.425 Loss: 1.058 lr: 0.526592943654555\n",
      "Epoch: 1000 Accuracy: 0.432 Loss: 1.047 lr: 0.5002501250625312\n",
      "Epoch: 1100 Accuracy: 0.440 Loss: 1.033 lr: 0.4764173415912339\n",
      "Epoch: 1200 Accuracy: 0.398 Loss: 1.019 lr: 0.45475216007276037\n",
      "Epoch: 1300 Accuracy: 0.446 Loss: 1.005 lr: 0.43497172683775553\n",
      "Epoch: 1400 Accuracy: 0.452 Loss: 0.992 lr: 0.4168403501458941\n",
      "Epoch: 1500 Accuracy: 0.498 Loss: 0.975 lr: 0.4001600640256102\n",
      "Epoch: 1600 Accuracy: 0.475 Loss: 0.980 lr: 0.3847633705271258\n",
      "Epoch: 1700 Accuracy: 0.496 Loss: 0.963 lr: 0.3705075954057058\n",
      "Epoch: 1800 Accuracy: 0.507 Loss: 0.955 lr: 0.35727045373347627\n",
      "Epoch: 1900 Accuracy: 0.517 Loss: 0.945 lr: 0.3449465332873405\n",
      "Epoch: 2000 Accuracy: 0.522 Loss: 0.930 lr: 0.33344448149383127\n",
      "Epoch: 2100 Accuracy: 0.538 Loss: 0.913 lr: 0.32268473701193934\n",
      "Epoch: 2200 Accuracy: 0.588 Loss: 0.893 lr: 0.31259768677711786\n",
      "Epoch: 2300 Accuracy: 0.609 Loss: 0.873 lr: 0.3031221582297666\n",
      "Epoch: 2400 Accuracy: 0.563 Loss: 0.856 lr: 0.29420417769932333\n",
      "Epoch: 2500 Accuracy: 0.605 Loss: 0.850 lr: 0.2857959416976279\n",
      "Epoch: 2600 Accuracy: 0.505 Loss: 0.886 lr: 0.2778549597110308\n",
      "Epoch: 2700 Accuracy: 0.598 Loss: 0.824 lr: 0.2703433360367667\n",
      "Epoch: 2800 Accuracy: 0.595 Loss: 0.792 lr: 0.26322716504343247\n",
      "Epoch: 2900 Accuracy: 0.576 Loss: 0.838 lr: 0.25647601949217746\n",
      "Epoch: 3000 Accuracy: 0.489 Loss: 0.916 lr: 0.25006251562890724\n",
      "Epoch: 3100 Accuracy: 0.657 Loss: 0.748 lr: 0.2439619419370578\n",
      "Epoch: 3200 Accuracy: 0.677 Loss: 0.712 lr: 0.23815194093831865\n",
      "Epoch: 3300 Accuracy: 0.606 Loss: 0.755 lr: 0.23261223540358225\n",
      "Epoch: 3400 Accuracy: 0.698 Loss: 0.675 lr: 0.22732439190725165\n",
      "Epoch: 3500 Accuracy: 0.728 Loss: 0.640 lr: 0.22227161591464767\n",
      "Epoch: 3600 Accuracy: 0.706 Loss: 0.662 lr: 0.21743857360295715\n",
      "Epoch: 3700 Accuracy: 0.651 Loss: 0.796 lr: 0.21281123643328367\n",
      "Epoch: 3800 Accuracy: 0.686 Loss: 0.658 lr: 0.20837674515524068\n",
      "Epoch: 3900 Accuracy: 0.746 Loss: 0.602 lr: 0.20412329046744235\n",
      "Epoch: 4000 Accuracy: 0.715 Loss: 0.634 lr: 0.2000400080016003\n",
      "Epoch: 4100 Accuracy: 0.747 Loss: 0.573 lr: 0.19611688566385566\n",
      "Epoch: 4200 Accuracy: 0.721 Loss: 0.618 lr: 0.19234468166955185\n",
      "Epoch: 4300 Accuracy: 0.685 Loss: 0.631 lr: 0.18871485185884126\n",
      "Epoch: 4400 Accuracy: 0.644 Loss: 0.819 lr: 0.18521948508983144\n",
      "Epoch: 4500 Accuracy: 0.722 Loss: 0.589 lr: 0.18185124568103292\n",
      "Epoch: 4600 Accuracy: 0.699 Loss: 0.699 lr: 0.1786033220217896\n",
      "Epoch: 4700 Accuracy: 0.701 Loss: 0.607 lr: 0.1754693805930865\n",
      "Epoch: 4800 Accuracy: 0.751 Loss: 0.562 lr: 0.17244352474564578\n",
      "Epoch: 4900 Accuracy: 0.757 Loss: 0.562 lr: 0.16952025767079165\n",
      "Epoch: 5000 Accuracy: 0.757 Loss: 0.562 lr: 0.16669444907484582\n",
      "Epoch: 5100 Accuracy: 0.759 Loss: 0.564 lr: 0.16396130513198884\n",
      "Epoch: 5200 Accuracy: 0.765 Loss: 0.550 lr: 0.16131634134537828\n",
      "Epoch: 5300 Accuracy: 0.771 Loss: 0.531 lr: 0.15875535799333226\n",
      "Epoch: 5400 Accuracy: 0.767 Loss: 0.518 lr: 0.1562744178777934\n",
      "Epoch: 5500 Accuracy: 0.773 Loss: 0.509 lr: 0.15386982612709646\n",
      "Epoch: 5600 Accuracy: 0.772 Loss: 0.507 lr: 0.15153811183512653\n",
      "Epoch: 5700 Accuracy: 0.549 Loss: 1.189 lr: 0.14927601134497687\n",
      "Epoch: 5800 Accuracy: 0.787 Loss: 0.485 lr: 0.14708045300779526\n",
      "Epoch: 5900 Accuracy: 0.790 Loss: 0.505 lr: 0.14494854326714016\n",
      "Epoch: 6000 Accuracy: 0.782 Loss: 0.488 lr: 0.1428775539362766\n",
      "Epoch: 6100 Accuracy: 0.793 Loss: 0.470 lr: 0.1408649105507818\n",
      "Epoch: 6200 Accuracy: 0.751 Loss: 0.522 lr: 0.13890818169190167\n",
      "Epoch: 6300 Accuracy: 0.775 Loss: 0.511 lr: 0.13700506918755992\n",
      "Epoch: 6400 Accuracy: 0.800 Loss: 0.464 lr: 0.13515339910798757\n",
      "Epoch: 6500 Accuracy: 0.779 Loss: 0.493 lr: 0.13335111348179757\n",
      "Epoch: 6600 Accuracy: 0.798 Loss: 0.467 lr: 0.13159626266614027\n",
      "Epoch: 6700 Accuracy: 0.835 Loss: 0.401 lr: 0.12988699831146902\n",
      "Epoch: 6800 Accuracy: 0.805 Loss: 0.459 lr: 0.12822156686754713\n",
      "Epoch: 6900 Accuracy: 0.806 Loss: 0.451 lr: 0.126598303582732\n",
      "Epoch: 7000 Accuracy: 0.777 Loss: 0.548 lr: 0.12501562695336915\n",
      "Epoch: 7100 Accuracy: 0.813 Loss: 0.448 lr: 0.12347203358439313\n",
      "Epoch: 7200 Accuracy: 0.829 Loss: 0.427 lr: 0.12196609342602757\n",
      "Epoch: 7300 Accuracy: 0.806 Loss: 0.428 lr: 0.12049644535486204\n",
      "Epoch: 7400 Accuracy: 0.809 Loss: 0.431 lr: 0.11906179307060363\n",
      "Epoch: 7500 Accuracy: 0.820 Loss: 0.443 lr: 0.11766090128250381\n",
      "Epoch: 7600 Accuracy: 0.822 Loss: 0.436 lr: 0.11629259216187929\n",
      "Epoch: 7700 Accuracy: 0.812 Loss: 0.427 lr: 0.11495574203931487\n",
      "Epoch: 7800 Accuracy: 0.814 Loss: 0.420 lr: 0.11364927832708263\n",
      "Epoch: 7900 Accuracy: 0.815 Loss: 0.423 lr: 0.11237217664906168\n",
      "Epoch: 8000 Accuracy: 0.819 Loss: 0.416 lr: 0.11112345816201799\n",
      "Epoch: 8100 Accuracy: 0.854 Loss: 0.379 lr: 0.10990218705352237\n",
      "Epoch: 8200 Accuracy: 0.822 Loss: 0.412 lr: 0.10870746820306555\n",
      "Epoch: 8300 Accuracy: 0.822 Loss: 0.409 lr: 0.1075384449940854\n",
      "Epoch: 8400 Accuracy: 0.822 Loss: 0.415 lr: 0.10639429726566654\n",
      "Epoch: 8500 Accuracy: 0.825 Loss: 0.406 lr: 0.10527423939362038\n",
      "Epoch: 8600 Accuracy: 0.824 Loss: 0.404 lr: 0.10417751849150952\n",
      "Epoch: 8700 Accuracy: 0.832 Loss: 0.426 lr: 0.10310341272296113\n",
      "Epoch: 8800 Accuracy: 0.837 Loss: 0.419 lr: 0.1020512297173181\n",
      "Epoch: 8900 Accuracy: 0.836 Loss: 0.422 lr: 0.10102030508132134\n",
      "Epoch: 9000 Accuracy: 0.836 Loss: 0.420 lr: 0.1000100010001\n",
      "Epoch: 9100 Accuracy: 0.837 Loss: 0.418 lr: 0.09901970492127933\n",
      "Epoch: 9200 Accuracy: 0.837 Loss: 0.419 lr: 0.09804882831650162\n",
      "Epoch: 9300 Accuracy: 0.837 Loss: 0.418 lr: 0.09709680551509856\n",
      "Epoch: 9400 Accuracy: 0.852 Loss: 0.370 lr: 0.09616309260505818\n",
      "Epoch: 9500 Accuracy: 0.832 Loss: 0.395 lr: 0.09524716639679968\n",
      "Epoch: 9600 Accuracy: 0.833 Loss: 0.394 lr: 0.09434852344560807\n",
      "Epoch: 9700 Accuracy: 0.847 Loss: 0.375 lr: 0.09346667912889055\n",
      "Epoch: 9800 Accuracy: 0.843 Loss: 0.409 lr: 0.09260116677470137\n",
      "Epoch: 9900 Accuracy: 0.844 Loss: 0.410 lr: 0.09175153683824203\n",
      "Epoch: 10000 Accuracy: 0.842 Loss: 0.413 lr: 0.09091735612328393\n"
     ]
    }
   ],
   "source": [
    "# Loading the dataset\n",
    "X, y = spiral_data(samples=1000, classes=3)\n",
    "\n",
    "# Defining the layers and activation functions\n",
    "dense1 = Layer_Dense(2, 128)\n",
    "relu_activation = Activation_ReLU()\n",
    "dense2 = Layer_Dense(128, 3)\n",
    "softmax_activation_loss = Activation_Softmax_Loss_CategoricalCrossEntropy()\n",
    "\n",
    "# Defining the optimized SGD\n",
    "optimizer_sdg = Optimizer_SGD(decay=1e-3)\n",
    "\n",
    "for epoch in range(10001):\n",
    "    # forward pass\n",
    "    dense1.forward(X)\n",
    "    relu_activation.forward(dense1.output)\n",
    "    dense2.forward(relu_activation.output)\n",
    "    softmax_activation_loss.forward(dense2.output, y)\n",
    "\n",
    "    loss = softmax_activation_loss.loss\n",
    "    predictions = np.argmax(softmax_activation_loss.output, axis=1)\n",
    "    accuracy = np.mean(predictions == y)\n",
    "\n",
    "    if epoch%100==0:\n",
    "        print(f'Epoch: {epoch} Accuracy: {accuracy:.3f} Loss: {loss:.3f} lr: {optimizer_sdg.current_learning_rate}')\n",
    "    \n",
    "    # backward pass\n",
    "    softmax_activation_loss.backward(softmax_activation_loss.output, y)\n",
    "    dense2.backward(softmax_activation_loss.dL_dz)\n",
    "    relu_activation.backward(dense2.dL_dX)\n",
    "    dense1.backward(relu_activation.dL_dz)\n",
    "\n",
    "    # Updating weights and biases\n",
    "    optimizer_sdg.pre_update_params()\n",
    "    optimizer_sdg.update_params(dense1)\n",
    "    optimizer_sdg.update_params(dense2)\n",
    "    optimizer_sdg.post_update_params()"
   ]
  }
 ],
 "metadata": {
  "kernelspec": {
   "display_name": "nn_from_scratch",
   "language": "python",
   "name": "nn_from_scratch"
  },
  "language_info": {
   "codemirror_mode": {
    "name": "ipython",
    "version": 3
   },
   "file_extension": ".py",
   "mimetype": "text/x-python",
   "name": "python",
   "nbconvert_exporter": "python",
   "pygments_lexer": "ipython3",
   "version": "3.13.2"
  }
 },
 "nbformat": 4,
 "nbformat_minor": 5
}
