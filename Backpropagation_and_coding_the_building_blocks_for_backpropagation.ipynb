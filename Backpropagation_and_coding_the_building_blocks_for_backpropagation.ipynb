{
 "cells": [
  {
   "cell_type": "code",
   "execution_count": 4,
   "id": "1d79a386-0718-4f56-94e1-100aa8810fcb",
   "metadata": {},
   "outputs": [],
   "source": [
    "import numpy as np"
   ]
  },
  {
   "cell_type": "markdown",
   "id": "3a06c25f-ba70-4a4f-9302-23c96df85e50",
   "metadata": {},
   "source": [
    "# Backpropagation"
   ]
  },
  {
   "cell_type": "markdown",
   "id": "626fd280-23d7-40a5-bca5-5e70e997bb7e",
   "metadata": {},
   "source": [
    "## 1. Gradient of loss with respect to weights"
   ]
  },
  {
   "cell_type": "code",
   "execution_count": 5,
   "id": "d6cd340d-4388-4696-9419-b256d941d92a",
   "metadata": {},
   "outputs": [
    {
     "name": "stdout",
     "output_type": "stream",
     "text": [
      "[[ 0.5  0.5  0.5]\n",
      " [20.1 20.1 20.1]\n",
      " [10.9 10.9 10.9]\n",
      " [ 4.1  4.1  4.1]]\n"
     ]
    }
   ],
   "source": [
    "inputs = np.array([[1, 2, 3, 2.5],\n",
    "                   [2, 5, -1, 2],\n",
    "                   [-1.5, 2.7, 3.3, -0.8]])\n",
    "\n",
    "dL_dz = np.array([[1, 1, 1],\n",
    "                  [2, 2, 2],\n",
    "                  [3, 3, 3]])\n",
    "\n",
    "# Gradient of loss with respect to weights\n",
    "dL_dw = np.dot(inputs.T, dL_dz)\n",
    "print(dL_dw)"
   ]
  },
  {
   "cell_type": "markdown",
   "id": "3fa2e7e6-d76c-4131-88a5-0a43a380fadc",
   "metadata": {},
   "source": [
    "## 2. Gradient of loss with respect to biases"
   ]
  },
  {
   "cell_type": "code",
   "execution_count": 6,
   "id": "ebbd8730-965a-4068-9839-0708e64f0289",
   "metadata": {},
   "outputs": [
    {
     "name": "stdout",
     "output_type": "stream",
     "text": [
      "[[6 6 6]]\n"
     ]
    }
   ],
   "source": [
    "# Gradient of loss with respect to \n",
    "dL_db = np.sum(dL_dz, axis=0, keepdims=True)\n",
    "print(dL_db)"
   ]
  },
  {
   "cell_type": "markdown",
   "id": "dcdca670-a2ec-4623-81a7-b2683db87356",
   "metadata": {},
   "source": [
    "## 3. Gradient of loss with respect to inputs"
   ]
  },
  {
   "cell_type": "code",
   "execution_count": 7,
   "id": "003db4d9-bff7-4c85-8aa6-66bf12abfac2",
   "metadata": {},
   "outputs": [
    {
     "name": "stdout",
     "output_type": "stream",
     "text": [
      "[[ 0.44 -0.38 -0.07  1.37]\n",
      " [ 0.88 -0.76 -0.14  2.74]\n",
      " [ 1.32 -1.14 -0.21  4.11]]\n"
     ]
    }
   ],
   "source": [
    "weights = np.array([[0.2, 0.8, -0.5, 1],\n",
    "                    [0.5, -0.91, 0.26, -0.5],\n",
    "                    [-0.26, -0.27, 0.17, 0.87]]).T\n",
    "dL_dX = np.dot(dL_dz, weights.T)\n",
    "print(dL_dX)"
   ]
  },
  {
   "cell_type": "markdown",
   "id": "04a0812f-34af-42e3-aaf7-cd8d46272666",
   "metadata": {},
   "source": [
    "## 4. Adding the \"backward\" method in the Layer_Dense class"
   ]
  },
  {
   "cell_type": "code",
   "execution_count": 8,
   "id": "ae56d4bc-b7b6-4ae4-b1e6-c51017583a99",
   "metadata": {},
   "outputs": [],
   "source": [
    "class Layer_Dense:\n",
    "    def __init__(self, n_inputs, n_neurons):\n",
    "        self.n_inputs = n_inputs\n",
    "        self.n_neurons = n_neurons\n",
    "        self.weights = 0.01 * np.random.randn(n_inputs, n_neurons)\n",
    "        self.biases = np.zeros((1, n_neurons))\n",
    "\n",
    "    def forward(self, inputs):\n",
    "        self.inputs = inputs\n",
    "        self.output = np.dot(inputs, self.weights) + self.biases\n",
    "\n",
    "    def backward(self, dL_dz):\n",
    "        self.dL_dw = np.dot(self.inputs.T, dL_dz)\n",
    "        self.dL_db = np.sum(dL_dz, axis=0, keepdims=True)\n",
    "        self.dL_dX = np.dot(dL_dz, self.weights.T)"
   ]
  },
  {
   "cell_type": "markdown",
   "id": "8ba27f25-1aa9-4f37-bff9-e86c50efead5",
   "metadata": {},
   "source": [
    "## 5. Now adding the \"backward\" method in the ReLU Activation and backpropagating through the relu activation function"
   ]
  },
  {
   "cell_type": "code",
   "execution_count": 9,
   "id": "ab1b4c17-caa5-497b-89d6-93104d9dee0d",
   "metadata": {},
   "outputs": [],
   "source": [
    "class Activation_ReLU:\n",
    "    def forward(self, inputs):\n",
    "        self.inputs = inputs\n",
    "        self.output = np.maximum(0, inputs)\n",
    "\n",
    "    def backward(self, dL_da):\n",
    "        # Here dL_da is the gradient of L with respect to a. a is the output of the ReLU activation function, a = ReLU(z)\n",
    "        # We have been given dL_da and we have to find dL_dz (gradient of loss with respect to z), here z is the output of the previous layer which will pass through the activation function\n",
    "        # So we are basically backpropagating through the relu activation function\n",
    "        self.dL_dz = dL_da.copy()\n",
    "        self.dL_dz[self.inputs<=0] = 0"
   ]
  },
  {
   "cell_type": "markdown",
   "id": "787f6106-845a-485b-a659-af21fefc47e8",
   "metadata": {},
   "source": [
    "## 6. Defining the Categorical Cross Entropy Loss with \"backward\" method"
   ]
  },
  {
   "cell_type": "code",
   "execution_count": 10,
   "id": "780a0586-5e3c-4058-a86a-a11497a8cefb",
   "metadata": {},
   "outputs": [
    {
     "name": "stdout",
     "output_type": "stream",
     "text": [
      "[[-0.  -2.  -0.  -0. ]\n",
      " [-0.  -0.  -2.5 -0. ]\n",
      " [-0.  -0.  -0.  -2.5]]\n",
      "[[-0.         -0.66666667 -0.         -0.        ]\n",
      " [-0.         -0.         -0.83333333 -0.        ]\n",
      " [-0.         -0.         -0.         -0.83333333]]\n"
     ]
    }
   ],
   "source": [
    "class Loss:\n",
    "    def calculate(self, y_pred, y_true):\n",
    "        negative_log_likelihoods = self.forward(y_pred, y_true)\n",
    "        avg_loss = np.mean(negative_log_likelihoods)\n",
    "        return avg_loss\n",
    "\n",
    "class Loss_CategoricalCrossEntropy(Loss): \n",
    "    def forward(self, y_pred, y_true):\n",
    "        y_pred_clipped = np.clip(y_pred, 1e-7, 1-1e-7)\n",
    "        y_true = y_true\n",
    "\n",
    "        if len(y_true.shape) == 1:\n",
    "            correct_confidences = y_pred_clipped[range(len(y_pred_clipped)), y_true]\n",
    "\n",
    "        if len(y_true.shape) == 2:\n",
    "            correct_confidences = np.sum(y_pred_clipped * y_true, axis=1)\n",
    "\n",
    "        negative_log_likelihoods = -np.log(correct_confidences)\n",
    "        return negative_log_likelihoods\n",
    "\n",
    "    def backward(self, y_pred,y_true):\n",
    "        y_pred_clipped = np.clip(y_pred, 1e-7, 1-1e-7)\n",
    "        no_of_batches = len(y_pred)\n",
    "        no_of_labels = len(y_pred[0])\n",
    "        \n",
    "        if len(y_true.shape) == 1:\n",
    "            y_true = np.eye(no_of_labels)[y_true]\n",
    "\n",
    "        # Calculating gradient\n",
    "        self.dL_dycap = -y_true / y_pred # Here ycap means the predictions\n",
    "        \n",
    "        # Applying the normalization on gradient\n",
    "        self.normalized_dL_dycap = self.dL_dycap / no_of_batches\n",
    "\n",
    "y_pred = np.array([[.1, .5, .3, .1],\n",
    "                   [.2, .1, .4, .3],\n",
    "                   [.3, .2, .1, .4]])\n",
    "y_true = np.array([1, 2, 3])\n",
    "loss_function = Loss_CategoricalCrossEntropy()\n",
    "loss_function.backward(y_pred, y_true)\n",
    "print(loss_function.dL_dycap)\n",
    "print(loss_function.normalized_dL_dycap)"
   ]
  },
  {
   "cell_type": "markdown",
   "id": "8afb7b1c-46ad-422c-9402-9f13e0ca458c",
   "metadata": {},
   "source": [
    "## 7. Softmax classifier - combined Softmax activation with categorical cross entropy loss function for faster \"backward\" step"
   ]
  },
  {
   "cell_type": "code",
   "execution_count": 11,
   "id": "d140cc69-6e94-4b46-8753-4a8a62e4c098",
   "metadata": {},
   "outputs": [
    {
     "name": "stdout",
     "output_type": "stream",
     "text": [
      "Gradients: Combined loss and softmax activation ->\n",
      "[[-0.1         0.03333333  0.06666667]\n",
      " [ 0.03333333 -0.16666667  0.13333333]\n",
      " [ 0.00666667 -0.03333333  0.02666667]]\n"
     ]
    }
   ],
   "source": [
    "class Activation_Softmax:\n",
    "    def forward(self, final_layer_outputs):\n",
    "        exp_values = np.exp(final_layer_outputs - np.max(final_layer_outputs, axis=1, keepdims=True))\n",
    "        probabilities = exp_values / np.sum(exp_values, axis=1, keepdims=True)\n",
    "        self.output = probabilities\n",
    "\n",
    "class Activation_Softmax_Loss_CategoricalCrossEntropy:\n",
    "    def __init__(self):\n",
    "        self.activation_softmax = Activation_Softmax()\n",
    "        self.loss_function = Loss_CategoricalCrossEntropy()\n",
    "    \n",
    "    def forward(self, final_layer_outputs, y_true):\n",
    "        # Calculating softmax activation outputs\n",
    "        self.activation_softmax.forward(final_layer_outputs)\n",
    "        self.output = self.activation_softmax.output\n",
    "\n",
    "        # Calculating loss\n",
    "        self.loss = self.loss_function.calculate(self.output, y_true)\n",
    "        return self.loss\n",
    "\n",
    "    def backward(self, softmax_outputs, y_true):\n",
    "        no_of_batches = len(softmax_outputs)\n",
    "\n",
    "        # Converting the y_true to discrete vector if it is in one hot encoding\n",
    "        if len(y_true.shape) == 2:\n",
    "            y_true = np.argmax(y_true, axis=1)\n",
    "\n",
    "        self.dL_dz = softmax_outputs.copy()\n",
    "        # Calculating gradient\n",
    "        self.dL_dz[range(no_of_batches), y_true] -= 1\n",
    "\n",
    "        # Applying normalization\n",
    "        self.dL_dz = self.dL_dz / no_of_batches\n",
    "\n",
    "softmax_outputs = np.array([[.7, .1, .2],\n",
    "                            [.1, .5, .4],\n",
    "                            [.02, .9, .08]])\n",
    "class_targets = np.array([0, 1, 1])\n",
    "softmax_loss = Activation_Softmax_Loss_CategoricalCrossEntropy()\n",
    "softmax_loss.backward(softmax_outputs, class_targets)\n",
    "normalized_dL_dz = softmax_loss.dL_dz\n",
    "print(\"Gradients: Combined loss and softmax activation ->\")\n",
    "print(normalized_dL_dz)"
   ]
  },
  {
   "cell_type": "markdown",
   "id": "50b1d2d6-fbb4-491b-86fd-496e02ef9d05",
   "metadata": {},
   "source": [
    "# Coding the forward and backward pass"
   ]
  },
  {
   "cell_type": "markdown",
   "id": "7a6fa709-8e18-4173-80e0-06c19021a569",
   "metadata": {},
   "source": [
    "## 1. Load the spiral dataset"
   ]
  },
  {
   "cell_type": "code",
   "execution_count": 12,
   "id": "8d7ba017-8963-47e2-b87f-4933b0cdc7c6",
   "metadata": {},
   "outputs": [
    {
     "name": "stdout",
     "output_type": "stream",
     "text": [
      "[[-0.          0.        ]\n",
      " [ 0.0019674   0.00990756]\n",
      " [-0.00381137  0.01983923]\n",
      " [ 0.0009594   0.03028784]\n",
      " [ 0.02613306  0.03081477]]\n"
     ]
    },
    {
     "data": {
      "image/png": "[encoded data removed]",
      "text/plain": [
       "<Figure size 640x480 with 1 Axes>"
      ]
     },
     "metadata": {},
     "output_type": "display_data"
    }
   ],
   "source": [
    "from nnfs.datasets import spiral_data\n",
    "import matplotlib.pyplot as plt\n",
    "\n",
    "X, y = spiral_data(samples=100, classes=3)\n",
    "print(X[:5])\n",
    "plt.scatter(X[:, 0], X[:, 1], c=y, cmap=\"brg\")\n",
    "plt.show()"
   ]
  },
  {
   "cell_type": "markdown",
   "id": "b37f80f7-e9af-49a9-b5aa-6d6f6d017db0",
   "metadata": {},
   "source": [
    "## 2. Forward and Backward pass "
   ]
  },
  {
   "cell_type": "code",
   "execution_count": 13,
   "id": "883994f6-d3b6-4028-9673-3f2dae715848",
   "metadata": {},
   "outputs": [
    {
     "name": "stdout",
     "output_type": "stream",
     "text": [
      "Softmax Outputs ->\n",
      " [[0.33333333 0.33333333 0.33333333]\n",
      " [0.33333366 0.33333313 0.33333321]\n",
      " [0.33333414 0.33333283 0.33333302]]\n",
      "Loss: 1.0986151303229674\n",
      "Accuracy: 0.30333333333333334\n",
      "[[-1.54118008e-04 -2.90415464e-04  3.40871026e-06]\n",
      " [ 8.15387612e-05  1.16347710e-04 -1.73550783e-04]]\n",
      "[[0.00039342 0.00033751 0.00041453]]\n",
      "[[ 5.66297136e-05 -1.39080391e-04  8.24506770e-05]\n",
      " [ 2.71298470e-05  1.22335070e-04 -1.49464917e-04]\n",
      " [-6.08758757e-05  8.64342764e-05 -2.55584006e-05]]\n",
      "[[ 1.53808850e-05 -6.43345078e-06 -8.94743424e-06]]\n"
     ]
    }
   ],
   "source": [
    "# Defining learning rate\n",
    "learning_rate = 0.001\n",
    "\n",
    "# Defining the classes\n",
    "dense_layer1 = Layer_Dense(2, 3)\n",
    "activation_relu = Activation_ReLU()\n",
    "dense_layer2 = Layer_Dense(3, 3)\n",
    "loss_activation_softmax = Activation_Softmax_Loss_CategoricalCrossEntropy()\n",
    "\n",
    "# Forward pass\n",
    "dense_layer1.forward(X)\n",
    "activation_relu.forward(dense_layer1.output)\n",
    "dense_layer2.forward(activation_relu.output)\n",
    "loss_activation_softmax.forward(dense_layer2.output, y)\n",
    "print(\"Softmax Outputs ->\\n\", loss_activation_softmax.output[:3])\n",
    "\n",
    "# Printing performance matrices\n",
    "print(\"Loss:\", loss_activation_softmax.loss)\n",
    "predictions = np.argmax(loss_activation_softmax.output, axis=1)\n",
    "accuracy = np.mean(predictions==y)\n",
    "print(\"Accuracy:\", accuracy)\n",
    "\n",
    "# Backward pass\n",
    "loss_activation_softmax.backward(loss_activation_softmax.output, y)\n",
    "dense_layer2.backward(loss_activation_softmax.dL_dz)\n",
    "activation_relu.backward(dense_layer2.dL_dX)\n",
    "dense_layer1.backward(activation_relu.dL_dz)\n",
    "\n",
    "# Gradients of weights and biases\n",
    "print(dense_layer1.dL_dw)\n",
    "print(dense_layer1.dL_db)\n",
    "print(dense_layer2.dL_dw)\n",
    "print(dense_layer2.dL_db)"
   ]
  },
  {
   "cell_type": "markdown",
   "id": "122c56e0-c9e6-4846-a656-6d680881527d",
   "metadata": {},
   "source": [
    "## 3. Applying gradient decent"
   ]
  },
  {
   "cell_type": "code",
   "execution_count": 14,
   "id": "2c980468-46ab-4825-b1d1-ce8c1e8b9ffa",
   "metadata": {},
   "outputs": [],
   "source": [
    "dense_layer1.weights -= learning_rate*dense_layer1.dL_dw\n",
    "dense_layer1.biases -= learning_rate*dense_layer1.dL_db\n",
    "dense_layer2.weights -= learning_rate*dense_layer2.dL_dw\n",
    "dense_layer2.biases -= learning_rate*dense_layer2.dL_db"
   ]
  },
  {
   "cell_type": "markdown",
   "id": "5a291ea1-3787-4b67-aab0-1a4d6c0938f4",
   "metadata": {},
   "source": [
    "## 4. Finding the loss and accuracy after gradient decent"
   ]
  },
  {
   "cell_type": "code",
   "execution_count": 15,
   "id": "913925d5-5358-4f01-9397-7f7c9533cacf",
   "metadata": {},
   "outputs": [
    {
     "name": "stdout",
     "output_type": "stream",
     "text": [
      "Softmax Outputs ->\n",
      " [[0.33333333 0.33333334 0.33333334]\n",
      " [0.33333365 0.33333314 0.33333321]\n",
      " [0.33333414 0.33333284 0.33333303]]\n",
      "Loss: 1.0986151296444586\n",
      "Accuracy: 0.30333333333333334\n"
     ]
    }
   ],
   "source": [
    "# Forward pass\n",
    "dense_layer1.forward(X)\n",
    "activation_relu.forward(dense_layer1.output)\n",
    "dense_layer2.forward(activation_relu.output)\n",
    "loss_activation_softmax.forward(dense_layer2.output, y)\n",
    "print(\"Softmax Outputs ->\\n\", loss_activation_softmax.output[:3])\n",
    "\n",
    "# Printing performance matrices\n",
    "print(\"Loss:\", loss_activation_softmax.loss)\n",
    "predictions = np.argmax(loss_activation_softmax.output, axis=1)\n",
    "accuracy = np.mean(predictions==y)\n",
    "print(\"Accuracy:\", accuracy)"
   ]
  },
  {
   "cell_type": "markdown",
   "id": "248e05dd-39da-4b94-a471-6f65b4467fc0",
   "metadata": {},
   "source": [
    "# Coding Gradient Descent Optimizer"
   ]
  },
  {
   "cell_type": "code",
   "execution_count": 16,
   "id": "9c84c112-335e-4b5b-b41f-4a49f4414f5e",
   "metadata": {},
   "outputs": [],
   "source": [
    "class Optimizer_SGD:\n",
    "    def __init__(self, learning_rate=1):\n",
    "        self.learning_rate = learning_rate\n",
    "\n",
    "    def update_params(self, layer):\n",
    "        layer.weights += -self.learning_rate * layer.dL_dw\n",
    "        layer.biases += -self.learning_rate * layer.dL_db"
   ]
  },
  {
   "cell_type": "markdown",
   "id": "96d4f5cd-5dac-40de-92e4-d007e9ba19ee",
   "metadata": {},
   "source": [
    "## Coding the whole neural network using optimizer"
   ]
  },
  {
   "cell_type": "code",
   "execution_count": 18,
   "id": "8c48512c-896e-47a6-8ba3-8a983c97c179",
   "metadata": {},
   "outputs": [
    {
     "name": "stdout",
     "output_type": "stream",
     "text": [
      "Epoch: 0 Accuracy: 0.30333333333333334 Loss: 1.098656816763054\n",
      "Epoch: 100 Accuracy: 0.41333333333333333 Loss: 1.0608878528352412\n",
      "Epoch: 200 Accuracy: 0.45666666666666667 Loss: 1.0570959816812937\n",
      "Epoch: 300 Accuracy: 0.4533333333333333 Loss: 1.0547292281697207\n",
      "Epoch: 400 Accuracy: 0.46 Loss: 1.0509589450721308\n",
      "Epoch: 500 Accuracy: 0.46 Loss: 1.046384793780407\n",
      "Epoch: 600 Accuracy: 0.4633333333333333 Loss: 1.0425046653216645\n",
      "Epoch: 700 Accuracy: 0.4533333333333333 Loss: 1.0398305462606543\n",
      "Epoch: 800 Accuracy: 0.45666666666666667 Loss: 1.0398559905576437\n",
      "Epoch: 900 Accuracy: 0.4766666666666667 Loss: 1.0302805262521346\n",
      "Epoch: 1000 Accuracy: 0.45 Loss: 1.025978206708564\n",
      "Epoch: 1100 Accuracy: 0.43333333333333335 Loss: 1.0119930418384389\n",
      "Epoch: 1200 Accuracy: 0.4633333333333333 Loss: 0.9997958822882422\n",
      "Epoch: 1300 Accuracy: 0.47333333333333333 Loss: 0.9859163690673511\n",
      "Epoch: 1400 Accuracy: 0.48 Loss: 0.9694054193461871\n",
      "Epoch: 1500 Accuracy: 0.49333333333333335 Loss: 0.9560481247904058\n",
      "Epoch: 1600 Accuracy: 0.5133333333333333 Loss: 0.9416519197526069\n",
      "Epoch: 1700 Accuracy: 0.5066666666666667 Loss: 0.9302072219794346\n",
      "Epoch: 1800 Accuracy: 0.53 Loss: 0.9232489595924747\n",
      "Epoch: 1900 Accuracy: 0.5266666666666666 Loss: 0.9040479846423523\n",
      "Epoch: 2000 Accuracy: 0.57 Loss: 0.8982290757374447\n",
      "Epoch: 2100 Accuracy: 0.5366666666666666 Loss: 0.8811740877939034\n",
      "Epoch: 2200 Accuracy: 0.5733333333333334 Loss: 0.8528755875803777\n",
      "Epoch: 2300 Accuracy: 0.57 Loss: 0.8363329569533647\n",
      "Epoch: 2400 Accuracy: 0.59 Loss: 0.8147386847565088\n",
      "Epoch: 2500 Accuracy: 0.54 Loss: 0.8039692022874063\n",
      "Epoch: 2600 Accuracy: 0.5733333333333334 Loss: 0.7846118955496096\n",
      "Epoch: 2700 Accuracy: 0.5766666666666667 Loss: 0.7735020177054269\n",
      "Epoch: 2800 Accuracy: 0.54 Loss: 0.8280636804491208\n",
      "Epoch: 2900 Accuracy: 0.61 Loss: 0.7756390038522436\n",
      "Epoch: 3000 Accuracy: 0.6366666666666667 Loss: 0.7378862866845537\n",
      "Epoch: 3100 Accuracy: 0.61 Loss: 0.7379003735645491\n",
      "Epoch: 3200 Accuracy: 0.59 Loss: 0.739312733519993\n",
      "Epoch: 3300 Accuracy: 0.63 Loss: 0.725083105276792\n",
      "Epoch: 3400 Accuracy: 0.5866666666666667 Loss: 0.8678210653979778\n",
      "Epoch: 3500 Accuracy: 0.6 Loss: 0.7256832290389794\n",
      "Epoch: 3600 Accuracy: 0.6033333333333334 Loss: 0.7117408558341297\n",
      "Epoch: 3700 Accuracy: 0.5966666666666667 Loss: 0.8678717765894847\n",
      "Epoch: 3800 Accuracy: 0.6066666666666667 Loss: 0.7115331467618604\n",
      "Epoch: 3900 Accuracy: 0.6433333333333333 Loss: 0.7127108982087769\n",
      "Epoch: 4000 Accuracy: 0.63 Loss: 0.6867167604552404\n",
      "Epoch: 4100 Accuracy: 0.6666666666666666 Loss: 0.6819208031328673\n",
      "Epoch: 4200 Accuracy: 0.5266666666666666 Loss: 1.0678651995215491\n",
      "Epoch: 4300 Accuracy: 0.61 Loss: 0.7085934487055612\n",
      "Epoch: 4400 Accuracy: 0.6766666666666666 Loss: 0.6879197263889235\n",
      "Epoch: 4500 Accuracy: 0.6533333333333333 Loss: 0.6721336213194923\n",
      "Epoch: 4600 Accuracy: 0.67 Loss: 0.6790210670514224\n",
      "Epoch: 4700 Accuracy: 0.66 Loss: 0.681041293781873\n",
      "Epoch: 4800 Accuracy: 0.6566666666666666 Loss: 0.6920163909867548\n",
      "Epoch: 4900 Accuracy: 0.6633333333333333 Loss: 0.6693981269193292\n",
      "Epoch: 5000 Accuracy: 0.7 Loss: 0.6538789714453336\n",
      "Epoch: 5100 Accuracy: 0.7066666666666667 Loss: 0.6622943839623846\n",
      "Epoch: 5200 Accuracy: 0.69 Loss: 0.6524220177152532\n",
      "Epoch: 5300 Accuracy: 0.6933333333333334 Loss: 0.6502855320129766\n",
      "Epoch: 5400 Accuracy: 0.69 Loss: 0.6522039264017093\n",
      "Epoch: 5500 Accuracy: 0.6966666666666667 Loss: 0.6564269966436308\n",
      "Epoch: 5600 Accuracy: 0.67 Loss: 0.6569879462330694\n",
      "Epoch: 5700 Accuracy: 0.68 Loss: 0.6483370708610168\n",
      "Epoch: 5800 Accuracy: 0.6733333333333333 Loss: 0.6498157429027566\n",
      "Epoch: 5900 Accuracy: 0.5433333333333333 Loss: 1.0592531336157924\n",
      "Epoch: 6000 Accuracy: 0.6766666666666666 Loss: 0.651785837926268\n",
      "Epoch: 6100 Accuracy: 0.6733333333333333 Loss: 0.6313995426197594\n",
      "Epoch: 6200 Accuracy: 0.6866666666666666 Loss: 0.6410409888471313\n",
      "Epoch: 6300 Accuracy: 0.6766666666666666 Loss: 0.6539994514539794\n",
      "Epoch: 6400 Accuracy: 0.67 Loss: 0.6622347600836344\n",
      "Epoch: 6500 Accuracy: 0.67 Loss: 0.6325871679986147\n",
      "Epoch: 6600 Accuracy: 0.6766666666666666 Loss: 0.6554563351197656\n",
      "Epoch: 6700 Accuracy: 0.6733333333333333 Loss: 0.6599225145461035\n",
      "Epoch: 6800 Accuracy: 0.6833333333333333 Loss: 0.6437019783010183\n",
      "Epoch: 6900 Accuracy: 0.67 Loss: 0.6260420487921139\n",
      "Epoch: 7000 Accuracy: 0.6133333333333333 Loss: 0.8449025056590223\n",
      "Epoch: 7100 Accuracy: 0.6733333333333333 Loss: 0.6276997963112309\n",
      "Epoch: 7200 Accuracy: 0.6766666666666666 Loss: 0.628720955429958\n",
      "Epoch: 7300 Accuracy: 0.69 Loss: 0.6369556098063744\n",
      "Epoch: 7400 Accuracy: 0.68 Loss: 0.6377853768154459\n",
      "Epoch: 7500 Accuracy: 0.7 Loss: 0.6184169168899135\n",
      "Epoch: 7600 Accuracy: 0.6733333333333333 Loss: 0.6324563648736695\n",
      "Epoch: 7700 Accuracy: 0.6833333333333333 Loss: 0.6428246729210896\n",
      "Epoch: 7800 Accuracy: 0.6833333333333333 Loss: 0.6190309761998685\n",
      "Epoch: 7900 Accuracy: 0.6866666666666666 Loss: 0.631215423586911\n",
      "Epoch: 8000 Accuracy: 0.6833333333333333 Loss: 0.6422067900625477\n",
      "Epoch: 8100 Accuracy: 0.6766666666666666 Loss: 0.6702877445659322\n",
      "Epoch: 8200 Accuracy: 0.6866666666666666 Loss: 0.620789780461755\n",
      "Epoch: 8300 Accuracy: 0.6766666666666666 Loss: 0.6173412290413455\n",
      "Epoch: 8400 Accuracy: 0.66 Loss: 0.7476785345262471\n",
      "Epoch: 8500 Accuracy: 0.68 Loss: 0.6240534991403827\n",
      "Epoch: 8600 Accuracy: 0.6766666666666666 Loss: 0.6332165182614864\n",
      "Epoch: 8700 Accuracy: 0.6966666666666667 Loss: 0.6283521819474365\n",
      "Epoch: 8800 Accuracy: 0.6966666666666667 Loss: 0.6062436117299991\n",
      "Epoch: 8900 Accuracy: 0.69 Loss: 0.6272554778402388\n",
      "Epoch: 9000 Accuracy: 0.6933333333333334 Loss: 0.6234301245986241\n",
      "Epoch: 9100 Accuracy: 0.71 Loss: 0.640794668586877\n",
      "Epoch: 9200 Accuracy: 0.7033333333333334 Loss: 0.6160891601195472\n",
      "Epoch: 9300 Accuracy: 0.71 Loss: 0.6129457766791061\n",
      "Epoch: 9400 Accuracy: 0.7166666666666667 Loss: 0.609169922933148\n",
      "Epoch: 9500 Accuracy: 0.7066666666666667 Loss: 0.6343275597572875\n",
      "Epoch: 9600 Accuracy: 0.6433333333333333 Loss: 0.8310509540955604\n",
      "Epoch: 9700 Accuracy: 0.7133333333333334 Loss: 0.6103706681870648\n",
      "Epoch: 9800 Accuracy: 0.7033333333333334 Loss: 0.608533532345689\n",
      "Epoch: 9900 Accuracy: 0.7266666666666667 Loss: 0.6072224739791314\n",
      "Epoch: 10000 Accuracy: 0.7533333333333333 Loss: 0.579454748796452\n"
     ]
    }
   ],
   "source": [
    "# Loading the dataset\n",
    "X, y = spiral_data(samples=100, classes=3)\n",
    "\n",
    "# Defining the layers and activation functions\n",
    "dense1 = Layer_Dense(2, 64)\n",
    "relu_activation = Activation_ReLU()\n",
    "dense2 = Layer_Dense(64, 3)\n",
    "softmax_activation_loss = Activation_Softmax_Loss_CategoricalCrossEntropy()\n",
    "\n",
    "# Defining the optimized SGD\n",
    "optimizer_sdg = Optimizer_SGD()\n",
    "\n",
    "for epoch in range(10001):\n",
    "    # forward pass\n",
    "    dense1.forward(X)\n",
    "    relu_activation.forward(dense1.output)\n",
    "    dense2.forward(relu_activation.output)\n",
    "    softmax_activation_loss.forward(dense2.output, y)\n",
    "\n",
    "    loss = softmax_activation_loss.loss\n",
    "    predictions = np.argmax(softmax_activation_loss.output, axis=1)\n",
    "    accuracy = np.mean(predictions == y)\n",
    "\n",
    "    if epoch%100==0:\n",
    "        print(f'Epoch: {epoch} Accuracy: {accuracy} Loss: {loss}')\n",
    "    \n",
    "    # backward pass\n",
    "    softmax_activation_loss.backward(softmax_activation_loss.output, y)\n",
    "    dense2.backward(softmax_activation_loss.dL_dz)\n",
    "    relu_activation.backward(dense2.dL_dX)\n",
    "    dense1.backward(relu_activation.dL_dz)\n",
    "\n",
    "    # Updating weights and biases\n",
    "    optimizer_sdg.update_params(dense1)\n",
    "    optimizer_sdg.update_params(dense2)"
   ]
  }
 ],
 "metadata": {
  "kernelspec": {
   "display_name": "nn_from_scratch",
   "language": "python",
   "name": "nn_from_scratch"
  },
  "language_info": {
   "codemirror_mode": {
    "name": "ipython",
    "version": 3
   },
   "file_extension": ".py",
   "mimetype": "text/x-python",
   "name": "python",
   "nbconvert_exporter": "python",
   "pygments_lexer": "ipython3",
   "version": "3.13.2"
  }
 },
 "nbformat": 4,
 "nbformat_minor": 5
}
