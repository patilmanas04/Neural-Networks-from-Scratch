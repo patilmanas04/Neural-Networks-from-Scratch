{
 "cells": [
  {
   "cell_type": "code",
   "execution_count": 1,
   "id": "1d79a386-0718-4f56-94e1-100aa8810fcb",
   "metadata": {},
   "outputs": [],
   "source": [
    "import numpy as np"
   ]
  },
  {
   "cell_type": "markdown",
   "id": "3a06c25f-ba70-4a4f-9302-23c96df85e50",
   "metadata": {},
   "source": [
    "# Backpropagation"
   ]
  },
  {
   "cell_type": "markdown",
   "id": "626fd280-23d7-40a5-bca5-5e70e997bb7e",
   "metadata": {},
   "source": [
    "## 1. Gradient of loss with respect to weights"
   ]
  },
  {
   "cell_type": "code",
   "execution_count": 2,
   "id": "d6cd340d-4388-4696-9419-b256d941d92a",
   "metadata": {},
   "outputs": [
    {
     "name": "stdout",
     "output_type": "stream",
     "text": [
      "[[ 0.5  0.5  0.5]\n",
      " [20.1 20.1 20.1]\n",
      " [10.9 10.9 10.9]\n",
      " [ 4.1  4.1  4.1]]\n"
     ]
    }
   ],
   "source": [
    "inputs = np.array([[1, 2, 3, 2.5],\n",
    "                   [2, 5, -1, 2],\n",
    "                   [-1.5, 2.7, 3.3, -0.8]])\n",
    "\n",
    "dL_dz = np.array([[1, 1, 1],\n",
    "                  [2, 2, 2],\n",
    "                  [3, 3, 3]])\n",
    "\n",
    "# Gradient of loss with respect to weights\n",
    "dL_dw = np.dot(inputs.T, dL_dz)\n",
    "print(dL_dw)"
   ]
  },
  {
   "cell_type": "markdown",
   "id": "3fa2e7e6-d76c-4131-88a5-0a43a380fadc",
   "metadata": {},
   "source": [
    "## 2. Gradient of loss with respect to biases"
   ]
  },
  {
   "cell_type": "code",
   "execution_count": 3,
   "id": "ebbd8730-965a-4068-9839-0708e64f0289",
   "metadata": {},
   "outputs": [
    {
     "name": "stdout",
     "output_type": "stream",
     "text": [
      "[[6 6 6]]\n"
     ]
    }
   ],
   "source": [
    "# Gradient of loss with respect to \n",
    "dL_db = np.sum(dL_dz, axis=0, keepdims=True)\n",
    "print(dL_db)"
   ]
  },
  {
   "cell_type": "markdown",
   "id": "dcdca670-a2ec-4623-81a7-b2683db87356",
   "metadata": {},
   "source": [
    "## 3. Gradient of loss with respect to inputs"
   ]
  },
  {
   "cell_type": "code",
   "execution_count": 4,
   "id": "003db4d9-bff7-4c85-8aa6-66bf12abfac2",
   "metadata": {},
   "outputs": [
    {
     "name": "stdout",
     "output_type": "stream",
     "text": [
      "[[ 0.44 -0.38 -0.07  1.37]\n",
      " [ 0.88 -0.76 -0.14  2.74]\n",
      " [ 1.32 -1.14 -0.21  4.11]]\n"
     ]
    }
   ],
   "source": [
    "weights = np.array([[0.2, 0.8, -0.5, 1],\n",
    "                    [0.5, -0.91, 0.26, -0.5],\n",
    "                    [-0.26, -0.27, 0.17, 0.87]]).T\n",
    "dL_dX = np.dot(dL_dz, weights.T)\n",
    "print(dL_dX)"
   ]
  },
  {
   "cell_type": "markdown",
   "id": "04a0812f-34af-42e3-aaf7-cd8d46272666",
   "metadata": {},
   "source": [
    "## 4. Adding the \"backward\" method in the Layer_Dense class"
   ]
  },
  {
   "cell_type": "code",
   "execution_count": 6,
   "id": "ae56d4bc-b7b6-4ae4-b1e6-c51017583a99",
   "metadata": {},
   "outputs": [],
   "source": [
    "class Layer_Dense:\n",
    "    def __init__(self, n_inputs, n_neurons):\n",
    "        self.n_inputs = n_inputs\n",
    "        self.n_neurons = n_neurons\n",
    "        self.weights = 0.01 * np.random.randn(n_inputs, n_neurons)\n",
    "        self.biases = np.zeros((1, n_neurons))\n",
    "\n",
    "    def forward(self, inputs):\n",
    "        self.inputs = inputs\n",
    "        self.output = np.dot(inputs, self.weights) + self.biases\n",
    "\n",
    "    def backward(self, dL_dz):\n",
    "        self.dL_dw = np.dot(self.inputs.T, dL_dz)\n",
    "        self.dL_db = np.sum(dL_dz, axis=0, keepdims=True)\n",
    "        self.dL_dX = np.dot(dL_dz, self.weights.T)"
   ]
  },
  {
   "cell_type": "markdown",
   "id": "8ba27f25-1aa9-4f37-bff9-e86c50efead5",
   "metadata": {},
   "source": [
    "## 5. Now adding the \"backward\" method in the ReLU Activation and backpropagating through the relu activation function"
   ]
  },
  {
   "cell_type": "code",
   "execution_count": 12,
   "id": "ab1b4c17-caa5-497b-89d6-93104d9dee0d",
   "metadata": {},
   "outputs": [],
   "source": [
    "class Activation_ReLU:\n",
    "    def forward(self, inputs):\n",
    "        self.inputs = inputs\n",
    "        self.output = np.maximum(0, inputs)\n",
    "\n",
    "    def backward(self, dL_da):\n",
    "        # Here dL_da is the gradient of L with respect to a. a is the output of the ReLU activation function, a = ReLU(z)\n",
    "        # We have been given dL_da and we have to find dL_dz (gradient of loss with respect to z), here z is the output of the previous layer which will pass through the activation function\n",
    "        # So we are basically backpropagating through the relu activation function\n",
    "        self.dL_dz = dL_da\n",
    "        self.dL_dz[self.inputs<=0] = 0"
   ]
  }
 ],
 "metadata": {
  "kernelspec": {
   "display_name": "nn_from_scratch",
   "language": "python",
   "name": "nn_from_scratch"
  },
  "language_info": {
   "codemirror_mode": {
    "name": "ipython",
    "version": 3
   },
   "file_extension": ".py",
   "mimetype": "text/x-python",
   "name": "python",
   "nbconvert_exporter": "python",
   "pygments_lexer": "ipython3",
   "version": "3.13.2"
  }
 },
 "nbformat": 4,
 "nbformat_minor": 5
}
