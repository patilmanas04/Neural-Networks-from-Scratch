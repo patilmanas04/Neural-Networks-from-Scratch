{
 "cells": [
  {
   "cell_type": "code",
   "execution_count": 1,
   "id": "1d79a386-0718-4f56-94e1-100aa8810fcb",
   "metadata": {},
   "outputs": [],
   "source": [
    "import numpy as np"
   ]
  },
  {
   "cell_type": "markdown",
   "id": "3a06c25f-ba70-4a4f-9302-23c96df85e50",
   "metadata": {},
   "source": [
    "# Backpropagation"
   ]
  },
  {
   "cell_type": "markdown",
   "id": "626fd280-23d7-40a5-bca5-5e70e997bb7e",
   "metadata": {},
   "source": [
    "## 1. Gradient of loss with respect to weights"
   ]
  },
  {
   "cell_type": "code",
   "execution_count": 2,
   "id": "d6cd340d-4388-4696-9419-b256d941d92a",
   "metadata": {},
   "outputs": [
    {
     "name": "stdout",
     "output_type": "stream",
     "text": [
      "[[ 0.5  0.5  0.5]\n",
      " [20.1 20.1 20.1]\n",
      " [10.9 10.9 10.9]\n",
      " [ 4.1  4.1  4.1]]\n"
     ]
    }
   ],
   "source": [
    "inputs = np.array([[1, 2, 3, 2.5],\n",
    "                   [2, 5, -1, 2],\n",
    "                   [-1.5, 2.7, 3.3, -0.8]])\n",
    "\n",
    "dL_dz = np.array([[1, 1, 1],\n",
    "                  [2, 2, 2],\n",
    "                  [3, 3, 3]])\n",
    "\n",
    "# Gradient of loss with respect to weights\n",
    "dL_dw = np.dot(inputs.T, dL_dz)\n",
    "print(dL_dw)"
   ]
  },
  {
   "cell_type": "markdown",
   "id": "3fa2e7e6-d76c-4131-88a5-0a43a380fadc",
   "metadata": {},
   "source": [
    "## 2. Gradient of loss with respect to biases"
   ]
  },
  {
   "cell_type": "code",
   "execution_count": 3,
   "id": "ebbd8730-965a-4068-9839-0708e64f0289",
   "metadata": {},
   "outputs": [
    {
     "name": "stdout",
     "output_type": "stream",
     "text": [
      "[[6 6 6]]\n"
     ]
    }
   ],
   "source": [
    "# Gradient of loss with respect to \n",
    "dL_db = np.sum(dL_dz, axis=0, keepdims=True)\n",
    "print(dL_db)"
   ]
  },
  {
   "cell_type": "markdown",
   "id": "dcdca670-a2ec-4623-81a7-b2683db87356",
   "metadata": {},
   "source": [
    "## 3. Gradient of loss with respect to inputs"
   ]
  },
  {
   "cell_type": "code",
   "execution_count": 4,
   "id": "003db4d9-bff7-4c85-8aa6-66bf12abfac2",
   "metadata": {},
   "outputs": [
    {
     "name": "stdout",
     "output_type": "stream",
     "text": [
      "[[ 0.44 -0.38 -0.07  1.37]\n",
      " [ 0.88 -0.76 -0.14  2.74]\n",
      " [ 1.32 -1.14 -0.21  4.11]]\n"
     ]
    }
   ],
   "source": [
    "weights = np.array([[0.2, 0.8, -0.5, 1],\n",
    "                    [0.5, -0.91, 0.26, -0.5],\n",
    "                    [-0.26, -0.27, 0.17, 0.87]]).T\n",
    "dL_dX = np.dot(dL_dz, weights.T)\n",
    "print(dL_dX)"
   ]
  },
  {
   "cell_type": "markdown",
   "id": "04a0812f-34af-42e3-aaf7-cd8d46272666",
   "metadata": {},
   "source": [
    "## 4. Adding the \"backward\" method in the Layer_Dense class"
   ]
  },
  {
   "cell_type": "code",
   "execution_count": 5,
   "id": "ae56d4bc-b7b6-4ae4-b1e6-c51017583a99",
   "metadata": {},
   "outputs": [],
   "source": [
    "class Layer_Dense:\n",
    "    def __init__(self, n_inputs, n_neurons):\n",
    "        self.n_inputs = n_inputs\n",
    "        self.n_neurons = n_neurons\n",
    "        self.weights = 0.01 * np.random.randn(n_inputs, n_neurons)\n",
    "        self.biases = np.zeros((1, n_neurons))\n",
    "\n",
    "    def forward(self, inputs):\n",
    "        self.inputs = inputs\n",
    "        self.output = np.dot(inputs, self.weights) + self.biases\n",
    "\n",
    "    def backward(self, dL_dz):\n",
    "        self.dL_dw = np.dot(self.inputs.T, dL_dz)\n",
    "        self.dL_db = np.sum(dL_dz, axis=0, keepdims=True)\n",
    "        self.dL_dX = np.dot(dL_dz, self.weights.T)"
   ]
  },
  {
   "cell_type": "markdown",
   "id": "8ba27f25-1aa9-4f37-bff9-e86c50efead5",
   "metadata": {},
   "source": [
    "## 5. Now adding the \"backward\" method in the ReLU Activation and backpropagating through the relu activation function"
   ]
  },
  {
   "cell_type": "code",
   "execution_count": 6,
   "id": "ab1b4c17-caa5-497b-89d6-93104d9dee0d",
   "metadata": {},
   "outputs": [],
   "source": [
    "class Activation_ReLU:\n",
    "    def forward(self, inputs):\n",
    "        self.inputs = inputs\n",
    "        self.output = np.maximum(0, inputs)\n",
    "\n",
    "    def backward(self, dL_da):\n",
    "        # Here dL_da is the gradient of L with respect to a. a is the output of the ReLU activation function, a = ReLU(z)\n",
    "        # We have been given dL_da and we have to find dL_dz (gradient of loss with respect to z), here z is the output of the previous layer which will pass through the activation function\n",
    "        # So we are basically backpropagating through the relu activation function\n",
    "        self.dL_dz = dL_da\n",
    "        self.dL_dz[self.inputs<=0] = 0"
   ]
  },
  {
   "cell_type": "markdown",
   "id": "787f6106-845a-485b-a659-af21fefc47e8",
   "metadata": {},
   "source": [
    "## 6. Defining the Categorical Cross Entropy Loss with \"backward\" method"
   ]
  },
  {
   "cell_type": "code",
   "execution_count": 11,
   "id": "780a0586-5e3c-4058-a86a-a11497a8cefb",
   "metadata": {},
   "outputs": [
    {
     "name": "stdout",
     "output_type": "stream",
     "text": [
      "[[-0.  -2.  -0.  -0. ]\n",
      " [-0.  -0.  -2.5 -0. ]\n",
      " [-0.  -0.  -0.  -2.5]]\n",
      "[[-0.         -0.66666667 -0.         -0.        ]\n",
      " [-0.         -0.         -0.83333333 -0.        ]\n",
      " [-0.         -0.         -0.         -0.83333333]]\n"
     ]
    }
   ],
   "source": [
    "class Loss_CategoricalCrossEntropy:\n",
    "    def calculate(self, y_pred, y_true):\n",
    "        negative_log_likelihoods = self.forward(y_pred, y_true)\n",
    "        avg_loss = np.mean(negative_log_likelihoods)\n",
    "        return avg_loss\n",
    "    \n",
    "    def forward(self, y_pred, y_true):\n",
    "        y_pred_clipped = np.clip(y_pred, 1e-7, 1-1e-7)\n",
    "        y_true = y_true\n",
    "\n",
    "        if len(y_pred.shape) == 1:\n",
    "            correct_confidences = y_pred_clipped[range(len(y_pred_clipped)), y_true]\n",
    "\n",
    "        if len(y_pred.shape) == 2:\n",
    "            correct_confidences = np.sum(y_pred_clipped * y_true, axis=1)\n",
    "\n",
    "        negative_log_likelihoods = -np.log(correct_confidences)\n",
    "        return negative_log_likelihoods\n",
    "\n",
    "    def backward(self, y_pred,y_true):\n",
    "        y_pred_clipped = np.clip(y_pred, 1e-7, 1-1e-7)\n",
    "        no_of_batches = len(y_pred)\n",
    "        no_of_labels = len(y_pred[0])\n",
    "        \n",
    "        if len(y_true.shape) == 1:\n",
    "            y_true = np.eye(no_of_labels)[y_true]\n",
    "\n",
    "        # Calculating gradient\n",
    "        self.dL_dycap = -y_true / y_pred # Here ycap means the predictions\n",
    "        \n",
    "        # Applying the normalization on gradient\n",
    "        self.normalized_dL_dycap = self.dL_dycap / no_of_batches\n",
    "\n",
    "y_pred = np.array([[.1, .5, .3, .1],\n",
    "                   [.2, .1, .4, .3],\n",
    "                   [.3, .2, .1, .4]])\n",
    "y_true = np.array([1, 2, 3])\n",
    "loss_function = Loss_CategoricalCrossEntropy()\n",
    "loss_function.backward(y_pred, y_true)\n",
    "print(loss_function.dL_dycap)\n",
    "print(loss_function.normalized_dL_dycap)"
   ]
  },
  {
   "cell_type": "markdown",
   "id": "8afb7b1c-46ad-422c-9402-9f13e0ca458c",
   "metadata": {},
   "source": [
    "## 7. Softmax classifier - combined Softmax activation with categorical cross entropy loss function for faster \"backward\" step"
   ]
  },
  {
   "cell_type": "code",
   "execution_count": 12,
   "id": "d140cc69-6e94-4b46-8753-4a8a62e4c098",
   "metadata": {},
   "outputs": [
    {
     "name": "stdout",
     "output_type": "stream",
     "text": [
      "Gradients: Combined loss and softmax activation ->\n",
      "[[-0.1         0.03333333  0.06666667]\n",
      " [ 0.03333333 -0.16666667  0.13333333]\n",
      " [ 0.00666667 -0.03333333  0.02666667]]\n"
     ]
    }
   ],
   "source": [
    "class Activation_Softmax:\n",
    "    def forward(self, final_layer_outputs):\n",
    "        exp_values = np.exp(final_layer_outputs - np.max(final_layer_outputs, axis=1, keepdims=True))\n",
    "        probabilities = exp_values / np.sum(exp_values, axis=1, keepdims=True)\n",
    "        self.output = probabilities\n",
    "\n",
    "class Activation_Softmax_Loss_CategoricalCrossEntropy:\n",
    "    def __init__(self):\n",
    "        self.activation_softmax = Activation_Softmax()\n",
    "        self.loss_function = Loss_CategoricalCrossEntropy()\n",
    "    \n",
    "    def forward(self, final_layer_outputs, y_true):\n",
    "        # Calculating softmax activation outputs\n",
    "        self.activation_softmax.forward(final_layer_outputs)\n",
    "        self.output = self.activation_softmax.output\n",
    "\n",
    "        # Calculating loss\n",
    "        loss = self.loss_function.calculate(self.output, y_true)\n",
    "        return loss\n",
    "\n",
    "    def backward(self, softmax_outputs, y_true):\n",
    "        no_of_batches = len(y_pred)\n",
    "\n",
    "        # Converting the y_true to discrete vector if it is in one hot encoding\n",
    "        if len(y_true.shape) == 2:\n",
    "            y_true = np.argmax(y_true, axis=1)\n",
    "\n",
    "        self.dL_dz = softmax_outputs.copy()\n",
    "        # Calculating gradient\n",
    "        self.dL_dz[range(no_of_batches), y_true] -= 1\n",
    "\n",
    "        # Applying normalization\n",
    "        self.normalized_dL_dz = self.dL_dz / no_of_batches\n",
    "\n",
    "softmax_outputs = np.array([[.7, .1, .2],\n",
    "                            [.1, .5, .4],\n",
    "                            [.02, .9, .08]])\n",
    "class_targets = np.array([0, 1, 1])\n",
    "softmax_loss = Activation_Softmax_Loss_CategoricalCrossEntropy()\n",
    "softmax_loss.backward(softmax_outputs, class_targets)\n",
    "normalized_dL_dz = softmax_loss.normalized_dL_dz\n",
    "print(\"Gradients: Combined loss and softmax activation ->\")\n",
    "print(normalized_dL_dz)"
   ]
  },
  {
   "cell_type": "code",
   "execution_count": null,
   "id": "8390e7b2-e3f7-472f-8472-e6ff6b9738d6",
   "metadata": {},
   "outputs": [],
   "source": []
  }
 ],
 "metadata": {
  "kernelspec": {
   "display_name": "nn_from_scratch",
   "language": "python",
   "name": "nn_from_scratch"
  },
  "language_info": {
   "codemirror_mode": {
    "name": "ipython",
    "version": 3
   },
   "file_extension": ".py",
   "mimetype": "text/x-python",
   "name": "python",
   "nbconvert_exporter": "python",
   "pygments_lexer": "ipython3",
   "version": "3.13.2"
  }
 },
 "nbformat": 4,
 "nbformat_minor": 5
}
