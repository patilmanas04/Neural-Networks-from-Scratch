{
 "cells": [
  {
   "cell_type": "code",
   "execution_count": 5,
   "id": "9d0f1e7e",
   "metadata": {},
   "outputs": [],
   "source": [
    "import numpy as np"
   ]
  },
  {
   "cell_type": "markdown",
   "id": "d465e5c9",
   "metadata": {},
   "source": [
    "# Single Neuron of 3 inputs and a bias using numpy"
   ]
  },
  {
   "cell_type": "code",
   "execution_count": 6,
   "id": "9e50da0b",
   "metadata": {},
   "outputs": [
    {
     "name": "stdout",
     "output_type": "stream",
     "text": [
      "4.8\n"
     ]
    }
   ],
   "source": [
    "inputs = [1.0, 2.0, 3.0, 2.5]\n",
    "weights = [0.2, 0.8, -0.5, 1.0]\n",
    "bias = 2.0\n",
    "\n",
    "output = np.dot(inputs, weights) + bias\n",
    "\n",
    "print(output)"
   ]
  },
  {
   "cell_type": "markdown",
   "id": "01a31aea",
   "metadata": {},
   "source": [
    "# Coding a Layer of 3 neurons with 4 inputs using numpy"
   ]
  },
  {
   "cell_type": "code",
   "execution_count": 8,
   "id": "bb2d84d6",
   "metadata": {},
   "outputs": [
    {
     "name": "stdout",
     "output_type": "stream",
     "text": [
      "[ 4.8  -0.04  7.  ]\n"
     ]
    }
   ],
   "source": [
    "inputs = [1.0, 2.0, 3.0, 2.5]\n",
    "weights = [[0.2, 0.8, -0.5, 1.0],\n",
    "           [0.5, -0.91, 0.26, -1.0],\n",
    "           [-1.5, 2.0, 0.5, 1.0]]\n",
    "\n",
    "biases = [2.0, 3.0, 0.5]\n",
    "\n",
    "layer_output = np.dot(weights, inputs) + biases\n",
    "\n",
    "print(layer_output)"
   ]
  },
  {
   "cell_type": "markdown",
   "id": "1bd447df",
   "metadata": {},
   "source": [
    "# Coding a batch using numpy"
   ]
  },
  {
   "cell_type": "code",
   "execution_count": 14,
   "id": "85fa7294",
   "metadata": {},
   "outputs": [
    {
     "name": "stdout",
     "output_type": "stream",
     "text": [
      "[[ 4.8   -0.04   7.   ]\n",
      " [ 8.9   -2.81   9.   ]\n",
      " [ 1.41   1.451  9.   ]]\n"
     ]
    }
   ],
   "source": [
    "inputs = [[1.0, 2.0, 3.0, 2.5],\n",
    "          [2.0, 5.0, -1.0, 2.0],\n",
    "          [-1.5, 2.7, 3.3, -0.8]]\n",
    "\n",
    "weights = [[0.2, 0.8, -0.5, 1.0],\n",
    "           [0.5, -0.91, 0.26, -1.0],\n",
    "           [-1.5, 2.0, 0.5, 1.0]]\n",
    "\n",
    "biases = [2.0, 3.0, 0.5]\n",
    "\n",
    "layer_outputs_of_batches = np.dot(inputs, np.array(weights).T) + biases\n",
    "\n",
    "print(layer_outputs_of_batches)"
   ]
  }
 ],
 "metadata": {
  "kernelspec": {
   "display_name": "hibiscus_cnn_model",
   "language": "python",
   "name": "python3"
  },
  "language_info": {
   "codemirror_mode": {
    "name": "ipython",
    "version": 3
   },
   "file_extension": ".py",
   "mimetype": "text/x-python",
   "name": "python",
   "nbconvert_exporter": "python",
   "pygments_lexer": "ipython3",
   "version": "3.10.16"
  }
 },
 "nbformat": 4,
 "nbformat_minor": 5
}
