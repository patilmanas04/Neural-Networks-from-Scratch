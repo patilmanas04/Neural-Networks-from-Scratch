import numpy as np
from nnfs.datasets import vertical_data, spiral_data
import matplotlib.pyplot as plt


# RELU Activation Function
class Activation_ReLU:
  def forward(self, inputs):
    self.output = np.maximum(0, inputs)


# Softmax Activation Function
class Activation_Softmax:
  def forward(self, inputs):
    exp_values = np.exp(inputs - np.max(inputs, axis=1, keepdims=True))
    probabilities = exp_values / np.sum(exp_values, axis=1, keepdims=True)
    self.output = probabilities


# Dense Layer Class
class Layer_Dense:
  def __init__(self, n_inputs, n_neurons):
    self.n_inputs = n_inputs
    self.n_neurons = n_neurons
    self.weights = 0.01 * np.random.randn(n_inputs, n_neurons)
    self.biases = np.zeros((1, n_neurons))

  def forward(self, inputs):
    self.output = np.dot(inputs, self.weights) + self.biases


class Loss:
    def calculate(self, y_pred, y_true):
        neg_loss_liklihoods = self.forward(y_pred, y_true)
        avg_loss = np.mean(neg_loss_liklihoods)
        return avg_loss

class Loss_CategoricalCrossEntropy(Loss):
    def forward(self, y_pred, y_true):
        y_pred_clipped = np.clip(y_pred, 1e-7, 1 - 1e-7)

        if len(y_true.shape) == 1:
            correct_confidences = y_pred_clipped[range(len(y_pred_clipped)), y_true]
        elif len(y_true.shape) == 2:
            correct_confidences = np.sum(y_pred_clipped*y_true, axis=1)

        neg_loss_liklihoods = -np.log(correct_confidences)

        return neg_loss_liklihoods


class Accuracy:
    def calculate(self, outputs, y_true):
        correct_perdictions = np.argmax(outputs, axis=1)
        class_targets = y_true

        if len(y_true.shape) == 2:
            class_targets = np.argmax(y_true, axis=1)

        accuracy = np.mean(correct_perdictions == class_targets)

        return accuracy





X, y = vertical_data(samples=100, classes=3)
plt.scatter(X[:, 0], X[:, 1], c=y, s=40, cmap='brg')
plt.show()


layer1 = Layer_Dense(2, 3)
activation_relu = Activation_ReLU()

layer2 = Layer_Dense(3, 3)
activation_softmax = Activation_Softmax()

loss_function = Loss_CategoricalCrossEntropy()
accuracy_function = Accuracy()

best_weights_layer1 = layer1.weights.copy()
best_biases_layer1 = layer1.biases.copy()
best_weights_layer2 = layer2.weights.copy()
best_biases_layer2 = layer2.biases.copy()

lowest_loss = 999999 # some random initial value

for i in range(100000):
    layer1.weights = 0.005 * np.random.randn(2, 3)
    layer1.biases = 0.005 * np.random.randn(1, 3)
    layer2.weights = 0.005 * np.random.randn(3, 3)
    layer2.biases = 0.005 * np.random.randn(1, 3)

    layer1.forward(X)
    activation_relu.forward(layer1.output)
    layer2.forward(activation_relu.output)
    activation_softmax.forward(layer2.output)

    loss = loss_function.calculate(activation_softmax.output, y)
    accuracy = accuracy_function.calculate(activation_softmax.output, y)

    if loss < lowest_loss:
        print("New set of weights found, iteration:", i, "loss: ", loss, "accuracy: ", accuracy)
        best_weights_layer1 = layer1.weights
        best_biases_layer1 = layer1.biases
        best_weights_layer2 = layer2.weights
        best_biases_layer2 = layer2.biases
        lowest_loss = loss

print("Best pair of weights and biases found with the lowest loss")





# Trying this strategy in virtical dataset
layer1 = Layer_Dense(2, 3)
activation_relu = Activation_ReLU()

layer2 = Layer_Dense(3, 3)
activation_softmax = Activation_Softmax()

loss_function = Loss_CategoricalCrossEntropy()
accuracy_function = Accuracy()

best_weights_layer1 = layer1.weights.copy()
best_biases_layer1 = layer1.biases.copy()
best_weights_layer2 = layer2.weights.copy()
best_biases_layer2 = layer2.biases.copy()

lowest_loss = 999999 # some random initial value

for i in range(100000):
    layer1.weights += 0.05 * np.random.randn(2, 3)
    layer1.biases += 0.05 * np.random.randn(1, 3)
    layer2.weights += 0.05 * np.random.randn(3, 3)
    layer2.biases += 0.05 * np.random.randn(1, 3)

    layer1.forward(X)
    activation_relu.forward(layer1.output)
    layer2.forward(activation_relu.output)
    activation_softmax.forward(layer2.output)

    loss = loss_function.calculate(activation_softmax.output, y)
    accuracy = accuracy_function.calculate(activation_softmax.output, y)

    if loss < lowest_loss:
        print("New set of weights found, iteration:", i, "loss: ", loss, "accuracy: ", accuracy)
        best_weights_layer1 = layer1.weights
        best_biases_layer1 = layer1.biases
        best_weights_layer2 = layer2.weights
        best_biases_layer2 = layer2.biases
        lowest_loss = loss
    else:
        layer1.weights = best_weights_layer1.copy()
        layer1.biases = best_biases_layer1.copy()
        layer2.weights = best_weights_layer2.copy()
        layer2.biases = best_biases_layer2.copy()

print("Best pair of weights and biases found with the lowest loss")


X, y = spiral_data(samples=100, classes=3)
plt.scatter(X[:, 0], X[:, 1], c=y, s=40, cmap='brg')
plt.show()


# Trying this strategy in spiral dataset (more complex dataset)
layer1 = Layer_Dense(2, 3)
activation_relu = Activation_ReLU()

layer2 = Layer_Dense(3, 3)
activation_softmax = Activation_Softmax()

loss_function = Loss_CategoricalCrossEntropy()
accuracy_function = Accuracy()

best_weights_layer1 = layer1.weights.copy()
best_biases_layer1 = layer1.biases.copy()
best_weights_layer2 = layer2.weights.copy()
best_biases_layer2 = layer2.biases.copy()

lowest_loss = 999999 # some random initial value

for i in range(1000000):
    layer1.weights += 0.005 * np.random.randn(2, 3)
    layer1.biases += 0.005 * np.random.randn(1, 3)
    layer2.weights += 0.005 * np.random.randn(3, 3)
    layer2.biases += 0.005 * np.random.randn(1, 3)

    layer1.forward(X)
    activation_relu.forward(layer1.output)
    layer2.forward(activation_relu.output)
    activation_softmax.forward(layer2.output)

    loss = loss_function.calculate(activation_softmax.output, y)
    accuracy = accuracy_function.calculate(activation_softmax.output, y)

    if loss < lowest_loss:
        print("New set of weights found, iteration:", i, "loss: ", loss, "accuracy: ", accuracy)
        best_weights_layer1 = layer1.weights
        best_biases_layer1 = layer1.biases
        best_weights_layer2 = layer2.weights
        best_biases_layer2 = layer2.biases
        lowest_loss = loss
    else:
        layer1.weights = best_weights_layer1.copy()
        layer1.biases = best_biases_layer1.copy()
        layer2.weights = best_weights_layer2.copy()
        layer2.biases = best_biases_layer2.copy()

print("Best pair of weights and biases found with the lowest loss")
