{
 "cells": [
  {
   "cell_type": "code",
   "execution_count": 1,
   "id": "5c69d113",
   "metadata": {},
   "outputs": [],
   "source": [
    "import numpy as np"
   ]
  },
  {
   "cell_type": "markdown",
   "id": "06f7a6c7",
   "metadata": {},
   "source": [
    "# Array Summation using numpy"
   ]
  },
  {
   "cell_type": "code",
   "execution_count": 8,
   "id": "cb325a50",
   "metadata": {},
   "outputs": [
    {
     "name": "stdout",
     "output_type": "stream",
     "text": [
      "45\n",
      "45\n",
      "[12 15 18]\n",
      "(3,)\n",
      "[ 6 15 24]\n",
      "(3,)\n",
      "[[12 15 18]]\n",
      "(1, 3)\n",
      "[[ 6]\n",
      " [15]\n",
      " [24]]\n",
      "(3, 1)\n"
     ]
    }
   ],
   "source": [
    "a = [[1, 2, 3],\n",
    "     [4, 5, 6],\n",
    "     [7, 8, 9]]\n",
    "\n",
    "print(np.sum(a))\n",
    "print(np.sum(a, axis=None))\n",
    "\n",
    "print(np.sum(a, axis=0))\n",
    "print(np.sum(a, axis=0).shape)\n",
    "\n",
    "print(np.sum(a, axis=1))\n",
    "print(np.sum(a, axis=1).shape)\n",
    "\n",
    "print(np.sum(a, axis=0, keepdims=True))\n",
    "print(np.sum(a, axis=0, keepdims=True).shape)\n",
    "\n",
    "print(np.sum(a, axis=1, keepdims=True))\n",
    "print(np.sum(a, axis=1, keepdims=True).shape)"
   ]
  },
  {
   "cell_type": "markdown",
   "id": "8b6893fb",
   "metadata": {},
   "source": [
    "# Broadcasting in numpy"
   ]
  },
  {
   "cell_type": "code",
   "execution_count": 14,
   "id": "c0793203",
   "metadata": {},
   "outputs": [
    {
     "name": "stdout",
     "output_type": "stream",
     "text": [
      "[7 8 9]\n",
      "[3 6 9]\n",
      "[[7 8 9]]\n",
      "[[3]\n",
      " [6]\n",
      " [9]]\n"
     ]
    }
   ],
   "source": [
    "print(np.max(a, axis=0))\n",
    "print(np.max(a, axis=1))\n",
    "\n",
    "print(np.max(a, axis=0, keepdims=True))\n",
    "print(np.max(a, axis=1, keepdims=True))"
   ]
  },
  {
   "cell_type": "code",
   "execution_count": 18,
   "id": "5c6bec77",
   "metadata": {},
   "outputs": [
    {
     "name": "stdout",
     "output_type": "stream",
     "text": [
      "[[-2 -4 -6]\n",
      " [ 1 -1 -3]\n",
      " [ 4  2  0]]\n",
      "[[-2 -1  0]\n",
      " [-2 -1  0]\n",
      " [-2 -1  0]]\n"
     ]
    }
   ],
   "source": [
    "print(a - np.max(a, axis=1))\n",
    "print(a - np.max(a, axis=1, keepdims=True))"
   ]
  }
 ],
 "metadata": {
  "kernelspec": {
   "display_name": "nn_from_scratch_learning",
   "language": "python",
   "name": "python3"
  },
  "language_info": {
   "codemirror_mode": {
    "name": "ipython",
    "version": 3
   },
   "file_extension": ".py",
   "mimetype": "text/x-python",
   "name": "python",
   "nbconvert_exporter": "python",
   "pygments_lexer": "ipython3",
   "version": "3.13.2"
  }
 },
 "nbformat": 4,
 "nbformat_minor": 5
}
